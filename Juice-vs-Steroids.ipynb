{
 "cells": [
  {
   "cell_type": "code",
   "execution_count": 63,
   "metadata": {},
   "outputs": [],
   "source": [
    "import pandas as pd\n",
    "import numpy as np\n",
    "from scipy import stats\n",
    "import math\n",
    "\n",
    "import seaborn as sns\n",
    "sns.set_style(\"darkgrid\")\n",
    "\n",
    "import matplotlib.pyplot as plt\n",
    "%matplotlib inline "
   ]
  },
  {
   "cell_type": "code",
   "execution_count": 2,
   "metadata": {},
   "outputs": [],
   "source": [
    "# playerID       Player ID code\n",
    "# yearID         Year\n",
    "# stint          player's stint (order of appearances within a season)\n",
    "# teamID         Team\n",
    "# lgID           League\n",
    "# G              Games\n",
    "# AB             At Bats\n",
    "# R              Runs\n",
    "# H              Hits\n",
    "# 2B             Doubles\n",
    "# 3B             Triples\n",
    "# HR             Homeruns\n",
    "# RBI            Runs Batted In\n",
    "# SB             Stolen Bases\n",
    "# CS             Caught Stealing\n",
    "# BB             Base on Balls\n",
    "# SO             Strikeouts\n",
    "# IBB            Intentional walks\n",
    "# HBP            Hit by pitch\n",
    "# SH             Sacrifice hits\n",
    "# SF             Sacrifice flies\n",
    "# GIDP           Grounded into double plays"
   ]
  },
  {
   "cell_type": "code",
   "execution_count": 3,
   "metadata": {},
   "outputs": [],
   "source": [
    "# pd.set_option('display.max_columns', 50)\n",
    "# pd.set_option('display.max_rows', 50)"
   ]
  },
  {
   "cell_type": "code",
   "execution_count": 4,
   "metadata": {},
   "outputs": [],
   "source": [
    "juiced = pd.read_csv(\"juiced.csv\")\n",
    "steroids = pd.read_csv(\"steroids.csv\")"
   ]
  },
  {
   "cell_type": "code",
   "execution_count": 5,
   "metadata": {},
   "outputs": [],
   "source": [
    "def remove_unnamed(df):\n",
    "    df.drop(['Unnamed: 0'], axis=1, inplace=True)\n",
    "    return df"
   ]
  },
  {
   "cell_type": "code",
   "execution_count": 6,
   "metadata": {},
   "outputs": [
    {
     "data": {
      "text/html": [
       "<div>\n",
       "<style scoped>\n",
       "    .dataframe tbody tr th:only-of-type {\n",
       "        vertical-align: middle;\n",
       "    }\n",
       "\n",
       "    .dataframe tbody tr th {\n",
       "        vertical-align: top;\n",
       "    }\n",
       "\n",
       "    .dataframe thead th {\n",
       "        text-align: right;\n",
       "    }\n",
       "</style>\n",
       "<table border=\"1\" class=\"dataframe\">\n",
       "  <thead>\n",
       "    <tr style=\"text-align: right;\">\n",
       "      <th></th>\n",
       "      <th>playerID</th>\n",
       "      <th>yearID</th>\n",
       "      <th>stint</th>\n",
       "      <th>teamID</th>\n",
       "      <th>lgID</th>\n",
       "      <th>G</th>\n",
       "      <th>AB</th>\n",
       "      <th>R</th>\n",
       "      <th>H</th>\n",
       "      <th>2B</th>\n",
       "      <th>...</th>\n",
       "      <th>RBI</th>\n",
       "      <th>SB</th>\n",
       "      <th>CS</th>\n",
       "      <th>BB</th>\n",
       "      <th>SO</th>\n",
       "      <th>IBB</th>\n",
       "      <th>HBP</th>\n",
       "      <th>SH</th>\n",
       "      <th>SF</th>\n",
       "      <th>GIDP</th>\n",
       "    </tr>\n",
       "  </thead>\n",
       "  <tbody>\n",
       "    <tr>\n",
       "      <th>0</th>\n",
       "      <td>abnersh01</td>\n",
       "      <td>1990</td>\n",
       "      <td>1</td>\n",
       "      <td>SDN</td>\n",
       "      <td>NL</td>\n",
       "      <td>91</td>\n",
       "      <td>184</td>\n",
       "      <td>17</td>\n",
       "      <td>45</td>\n",
       "      <td>9</td>\n",
       "      <td>...</td>\n",
       "      <td>15.0</td>\n",
       "      <td>2.0</td>\n",
       "      <td>3.0</td>\n",
       "      <td>9</td>\n",
       "      <td>28.0</td>\n",
       "      <td>1.0</td>\n",
       "      <td>2.0</td>\n",
       "      <td>2.0</td>\n",
       "      <td>1.0</td>\n",
       "      <td>3.0</td>\n",
       "    </tr>\n",
       "    <tr>\n",
       "      <th>1</th>\n",
       "      <td>aldremi01</td>\n",
       "      <td>1990</td>\n",
       "      <td>1</td>\n",
       "      <td>MON</td>\n",
       "      <td>NL</td>\n",
       "      <td>96</td>\n",
       "      <td>161</td>\n",
       "      <td>22</td>\n",
       "      <td>39</td>\n",
       "      <td>7</td>\n",
       "      <td>...</td>\n",
       "      <td>18.0</td>\n",
       "      <td>1.0</td>\n",
       "      <td>2.0</td>\n",
       "      <td>37</td>\n",
       "      <td>31.0</td>\n",
       "      <td>2.0</td>\n",
       "      <td>1.0</td>\n",
       "      <td>0.0</td>\n",
       "      <td>1.0</td>\n",
       "      <td>2.0</td>\n",
       "    </tr>\n",
       "    <tr>\n",
       "      <th>2</th>\n",
       "      <td>alomaro01</td>\n",
       "      <td>1990</td>\n",
       "      <td>1</td>\n",
       "      <td>SDN</td>\n",
       "      <td>NL</td>\n",
       "      <td>147</td>\n",
       "      <td>586</td>\n",
       "      <td>80</td>\n",
       "      <td>168</td>\n",
       "      <td>27</td>\n",
       "      <td>...</td>\n",
       "      <td>60.0</td>\n",
       "      <td>24.0</td>\n",
       "      <td>7.0</td>\n",
       "      <td>48</td>\n",
       "      <td>72.0</td>\n",
       "      <td>1.0</td>\n",
       "      <td>2.0</td>\n",
       "      <td>5.0</td>\n",
       "      <td>5.0</td>\n",
       "      <td>16.0</td>\n",
       "    </tr>\n",
       "    <tr>\n",
       "      <th>3</th>\n",
       "      <td>alomasa02</td>\n",
       "      <td>1990</td>\n",
       "      <td>1</td>\n",
       "      <td>CLE</td>\n",
       "      <td>AL</td>\n",
       "      <td>132</td>\n",
       "      <td>445</td>\n",
       "      <td>60</td>\n",
       "      <td>129</td>\n",
       "      <td>26</td>\n",
       "      <td>...</td>\n",
       "      <td>66.0</td>\n",
       "      <td>4.0</td>\n",
       "      <td>1.0</td>\n",
       "      <td>25</td>\n",
       "      <td>46.0</td>\n",
       "      <td>2.0</td>\n",
       "      <td>2.0</td>\n",
       "      <td>5.0</td>\n",
       "      <td>6.0</td>\n",
       "      <td>10.0</td>\n",
       "    </tr>\n",
       "    <tr>\n",
       "      <th>4</th>\n",
       "      <td>anderbr01</td>\n",
       "      <td>1990</td>\n",
       "      <td>1</td>\n",
       "      <td>BAL</td>\n",
       "      <td>AL</td>\n",
       "      <td>89</td>\n",
       "      <td>234</td>\n",
       "      <td>24</td>\n",
       "      <td>54</td>\n",
       "      <td>5</td>\n",
       "      <td>...</td>\n",
       "      <td>24.0</td>\n",
       "      <td>15.0</td>\n",
       "      <td>2.0</td>\n",
       "      <td>31</td>\n",
       "      <td>46.0</td>\n",
       "      <td>2.0</td>\n",
       "      <td>5.0</td>\n",
       "      <td>4.0</td>\n",
       "      <td>5.0</td>\n",
       "      <td>4.0</td>\n",
       "    </tr>\n",
       "  </tbody>\n",
       "</table>\n",
       "<p>5 rows × 22 columns</p>\n",
       "</div>"
      ],
      "text/plain": [
       "    playerID  yearID  stint teamID lgID    G   AB   R    H  2B  ...   RBI  \\\n",
       "0  abnersh01    1990      1    SDN   NL   91  184  17   45   9  ...  15.0   \n",
       "1  aldremi01    1990      1    MON   NL   96  161  22   39   7  ...  18.0   \n",
       "2  alomaro01    1990      1    SDN   NL  147  586  80  168  27  ...  60.0   \n",
       "3  alomasa02    1990      1    CLE   AL  132  445  60  129  26  ...  66.0   \n",
       "4  anderbr01    1990      1    BAL   AL   89  234  24   54   5  ...  24.0   \n",
       "\n",
       "     SB   CS  BB    SO  IBB  HBP   SH   SF  GIDP  \n",
       "0   2.0  3.0   9  28.0  1.0  2.0  2.0  1.0   3.0  \n",
       "1   1.0  2.0  37  31.0  2.0  1.0  0.0  1.0   2.0  \n",
       "2  24.0  7.0  48  72.0  1.0  2.0  5.0  5.0  16.0  \n",
       "3   4.0  1.0  25  46.0  2.0  2.0  5.0  6.0  10.0  \n",
       "4  15.0  2.0  31  46.0  2.0  5.0  4.0  5.0   4.0  \n",
       "\n",
       "[5 rows x 22 columns]"
      ]
     },
     "execution_count": 6,
     "metadata": {},
     "output_type": "execute_result"
    }
   ],
   "source": [
    "steroids = remove_unnamed(steroids)\n",
    "steroids.head()"
   ]
  },
  {
   "cell_type": "code",
   "execution_count": 7,
   "metadata": {},
   "outputs": [
    {
     "data": {
      "text/html": [
       "<div>\n",
       "<style scoped>\n",
       "    .dataframe tbody tr th:only-of-type {\n",
       "        vertical-align: middle;\n",
       "    }\n",
       "\n",
       "    .dataframe tbody tr th {\n",
       "        vertical-align: top;\n",
       "    }\n",
       "\n",
       "    .dataframe thead th {\n",
       "        text-align: right;\n",
       "    }\n",
       "</style>\n",
       "<table border=\"1\" class=\"dataframe\">\n",
       "  <thead>\n",
       "    <tr style=\"text-align: right;\">\n",
       "      <th></th>\n",
       "      <th>playerID</th>\n",
       "      <th>yearID</th>\n",
       "      <th>stint</th>\n",
       "      <th>teamID</th>\n",
       "      <th>lgID</th>\n",
       "      <th>G</th>\n",
       "      <th>AB</th>\n",
       "      <th>R</th>\n",
       "      <th>H</th>\n",
       "      <th>2B</th>\n",
       "      <th>...</th>\n",
       "      <th>RBI</th>\n",
       "      <th>SB</th>\n",
       "      <th>CS</th>\n",
       "      <th>BB</th>\n",
       "      <th>SO</th>\n",
       "      <th>IBB</th>\n",
       "      <th>HBP</th>\n",
       "      <th>SH</th>\n",
       "      <th>SF</th>\n",
       "      <th>GIDP</th>\n",
       "    </tr>\n",
       "  </thead>\n",
       "  <tbody>\n",
       "    <tr>\n",
       "      <th>0</th>\n",
       "      <td>abreubo01</td>\n",
       "      <td>2014</td>\n",
       "      <td>1</td>\n",
       "      <td>NYN</td>\n",
       "      <td>NL</td>\n",
       "      <td>78</td>\n",
       "      <td>133</td>\n",
       "      <td>12</td>\n",
       "      <td>33</td>\n",
       "      <td>9</td>\n",
       "      <td>...</td>\n",
       "      <td>14.0</td>\n",
       "      <td>1.0</td>\n",
       "      <td>0.0</td>\n",
       "      <td>20</td>\n",
       "      <td>21.0</td>\n",
       "      <td>0.0</td>\n",
       "      <td>0.0</td>\n",
       "      <td>0.0</td>\n",
       "      <td>2.0</td>\n",
       "      <td>3.0</td>\n",
       "    </tr>\n",
       "    <tr>\n",
       "      <th>1</th>\n",
       "      <td>abreujo02</td>\n",
       "      <td>2014</td>\n",
       "      <td>1</td>\n",
       "      <td>CHA</td>\n",
       "      <td>AL</td>\n",
       "      <td>145</td>\n",
       "      <td>556</td>\n",
       "      <td>80</td>\n",
       "      <td>176</td>\n",
       "      <td>35</td>\n",
       "      <td>...</td>\n",
       "      <td>107.0</td>\n",
       "      <td>3.0</td>\n",
       "      <td>1.0</td>\n",
       "      <td>51</td>\n",
       "      <td>131.0</td>\n",
       "      <td>15.0</td>\n",
       "      <td>11.0</td>\n",
       "      <td>0.0</td>\n",
       "      <td>4.0</td>\n",
       "      <td>14.0</td>\n",
       "    </tr>\n",
       "    <tr>\n",
       "      <th>2</th>\n",
       "      <td>ackledu01</td>\n",
       "      <td>2014</td>\n",
       "      <td>1</td>\n",
       "      <td>SEA</td>\n",
       "      <td>AL</td>\n",
       "      <td>143</td>\n",
       "      <td>502</td>\n",
       "      <td>64</td>\n",
       "      <td>123</td>\n",
       "      <td>27</td>\n",
       "      <td>...</td>\n",
       "      <td>65.0</td>\n",
       "      <td>8.0</td>\n",
       "      <td>4.0</td>\n",
       "      <td>32</td>\n",
       "      <td>90.0</td>\n",
       "      <td>1.0</td>\n",
       "      <td>3.0</td>\n",
       "      <td>3.0</td>\n",
       "      <td>2.0</td>\n",
       "      <td>10.0</td>\n",
       "    </tr>\n",
       "    <tr>\n",
       "      <th>3</th>\n",
       "      <td>adamsma01</td>\n",
       "      <td>2014</td>\n",
       "      <td>1</td>\n",
       "      <td>SLN</td>\n",
       "      <td>NL</td>\n",
       "      <td>142</td>\n",
       "      <td>527</td>\n",
       "      <td>55</td>\n",
       "      <td>152</td>\n",
       "      <td>34</td>\n",
       "      <td>...</td>\n",
       "      <td>68.0</td>\n",
       "      <td>3.0</td>\n",
       "      <td>2.0</td>\n",
       "      <td>26</td>\n",
       "      <td>114.0</td>\n",
       "      <td>5.0</td>\n",
       "      <td>3.0</td>\n",
       "      <td>0.0</td>\n",
       "      <td>7.0</td>\n",
       "      <td>9.0</td>\n",
       "    </tr>\n",
       "    <tr>\n",
       "      <th>4</th>\n",
       "      <td>adducji02</td>\n",
       "      <td>2014</td>\n",
       "      <td>1</td>\n",
       "      <td>TEX</td>\n",
       "      <td>AL</td>\n",
       "      <td>44</td>\n",
       "      <td>101</td>\n",
       "      <td>13</td>\n",
       "      <td>17</td>\n",
       "      <td>3</td>\n",
       "      <td>...</td>\n",
       "      <td>8.0</td>\n",
       "      <td>3.0</td>\n",
       "      <td>1.0</td>\n",
       "      <td>10</td>\n",
       "      <td>27.0</td>\n",
       "      <td>0.0</td>\n",
       "      <td>0.0</td>\n",
       "      <td>1.0</td>\n",
       "      <td>2.0</td>\n",
       "      <td>2.0</td>\n",
       "    </tr>\n",
       "  </tbody>\n",
       "</table>\n",
       "<p>5 rows × 22 columns</p>\n",
       "</div>"
      ],
      "text/plain": [
       "    playerID  yearID  stint teamID lgID    G   AB   R    H  2B  ...    RBI  \\\n",
       "0  abreubo01    2014      1    NYN   NL   78  133  12   33   9  ...   14.0   \n",
       "1  abreujo02    2014      1    CHA   AL  145  556  80  176  35  ...  107.0   \n",
       "2  ackledu01    2014      1    SEA   AL  143  502  64  123  27  ...   65.0   \n",
       "3  adamsma01    2014      1    SLN   NL  142  527  55  152  34  ...   68.0   \n",
       "4  adducji02    2014      1    TEX   AL   44  101  13   17   3  ...    8.0   \n",
       "\n",
       "    SB   CS  BB     SO   IBB   HBP   SH   SF  GIDP  \n",
       "0  1.0  0.0  20   21.0   0.0   0.0  0.0  2.0   3.0  \n",
       "1  3.0  1.0  51  131.0  15.0  11.0  0.0  4.0  14.0  \n",
       "2  8.0  4.0  32   90.0   1.0   3.0  3.0  2.0  10.0  \n",
       "3  3.0  2.0  26  114.0   5.0   3.0  0.0  7.0   9.0  \n",
       "4  3.0  1.0  10   27.0   0.0   0.0  1.0  2.0   2.0  \n",
       "\n",
       "[5 rows x 22 columns]"
      ]
     },
     "execution_count": 7,
     "metadata": {},
     "output_type": "execute_result"
    }
   ],
   "source": [
    "juiced = remove_unnamed(juiced)\n",
    "juiced.head()"
   ]
  },
  {
   "cell_type": "code",
   "execution_count": 8,
   "metadata": {},
   "outputs": [
    {
     "name": "stdout",
     "output_type": "stream",
     "text": [
      "Steroid Mean: 10.395577820003455 \n",
      "Steroid StDev: 11.461712732215677 \n",
      "Juice Mean: 10.122573994956918 \n",
      "Juice StDev: 9.532654065338109\n"
     ]
    }
   ],
   "source": [
    "print(\"Steroid Mean: {} \\nSteroid StDev: {} \\nJuice Mean: {} \\nJuice StDev: {}\".format(steroids.HR.mean(), \n",
    "                                                                                     juiced.HR.mean(),\n",
    "                                                                                     steroids.HR.std(), \n",
    "                                                                                     juiced.HR.std()))"
   ]
  },
  {
   "cell_type": "code",
   "execution_count": 9,
   "metadata": {},
   "outputs": [],
   "source": [
    "t_stat, p_value = stats.ttest_ind(steroids['H'], juiced['H'], equal_var=False)"
   ]
  },
  {
   "cell_type": "code",
   "execution_count": 10,
   "metadata": {},
   "outputs": [
    {
     "data": {
      "text/plain": [
       "(2.4493457342387512, 0.014352816461711874)"
      ]
     },
     "execution_count": 10,
     "metadata": {},
     "output_type": "execute_result"
    }
   ],
   "source": [
    "t_stat, p_value"
   ]
  },
  {
   "cell_type": "code",
   "execution_count": 11,
   "metadata": {},
   "outputs": [],
   "source": [
    "def t_stat_p_val_1(col_name):\n",
    "    t_stat, p_value = stats.ttest_ind(steroids[col_name], juiced[col_name], equal_var=False)\n",
    "    print('T-Stat: {} \\nP-Value: {}'.format(t_stat, p_value))"
   ]
  },
  {
   "cell_type": "code",
   "execution_count": 12,
   "metadata": {},
   "outputs": [],
   "source": [
    "def t_stat_p_val_2(col_name):\n",
    "    t_stat, p_value = stats.ttest_ind(juiced[col_name], steroids[col_name], equal_var=False)\n",
    "    print('T-Stat: {} \\nP-Value: {}'.format(t_stat, p_value))"
   ]
  },
  {
   "cell_type": "code",
   "execution_count": 13,
   "metadata": {},
   "outputs": [
    {
     "name": "stdout",
     "output_type": "stream",
     "text": [
      "T-Stat: 2.4493457342387512 \n",
      "P-Value: 0.014352816461711874\n"
     ]
    }
   ],
   "source": [
    "t_stat_p_val_1('H') #hits"
   ]
  },
  {
   "cell_type": "code",
   "execution_count": 14,
   "metadata": {},
   "outputs": [
    {
     "name": "stdout",
     "output_type": "stream",
     "text": [
      "T-Stat: -0.023326832269210052 \n",
      "P-Value: 0.9813907017728931\n"
     ]
    }
   ],
   "source": [
    "t_stat_p_val_1('2B') #doubles"
   ]
  },
  {
   "cell_type": "code",
   "execution_count": 15,
   "metadata": {},
   "outputs": [
    {
     "name": "stdout",
     "output_type": "stream",
     "text": [
      "T-Stat: -4.393886471217105 \n",
      "P-Value: 1.1407979205065639e-05\n"
     ]
    }
   ],
   "source": [
    "t_stat_p_val_1('HR') #home runs "
   ]
  },
  {
   "cell_type": "code",
   "execution_count": 16,
   "metadata": {},
   "outputs": [
    {
     "name": "stdout",
     "output_type": "stream",
     "text": [
      "T-Stat: -20.137596547351038 \n",
      "P-Value: 2.4730525003046932e-85\n"
     ]
    }
   ],
   "source": [
    "t_stat_p_val_1('SO') #strike outs "
   ]
  },
  {
   "cell_type": "code",
   "execution_count": 17,
   "metadata": {},
   "outputs": [
    {
     "data": {
      "text/plain": [
       "1.64504"
      ]
     },
     "execution_count": 17,
     "metadata": {},
     "output_type": "execute_result"
    }
   ],
   "source": [
    "#critical value \n",
    "deg = len(steroids) + len(juiced) - 2\n",
    "crit_val = np.round(stats.t.ppf(1-0.05, df=deg), 5)\n",
    "crit_val"
   ]
  },
  {
   "cell_type": "markdown",
   "metadata": {},
   "source": [
    "### *Ho*: Steroid Era players were better hitters\n",
    "\n",
    "### *Ha*: Steroid Era players were not better hitters  "
   ]
  },
  {
   "cell_type": "code",
   "execution_count": 18,
   "metadata": {},
   "outputs": [
    {
     "name": "stdout",
     "output_type": "stream",
     "text": [
      "Steroid Mean: 91.83036793919503 \n",
      "Steroid StDev: 88.87902129587675 \n",
      "Juice Mean: 49.55414799492732 \n",
      "Juice StDev: 47.62552578782344\n"
     ]
    }
   ],
   "source": [
    "colname = 'H'\n",
    "print(\"Steroid Mean: {} \\nSteroid StDev: {} \\nJuice Mean: {} \\nJuice StDev: {}\".format(steroids[colname].mean(), \n",
    "                                                                                     juiced[colname].mean(),\n",
    "                                                                                     steroids[colname].std(), \n",
    "                                                                                     juiced[colname].std()))"
   ]
  },
  {
   "cell_type": "code",
   "execution_count": 19,
   "metadata": {},
   "outputs": [],
   "source": [
    "#Hit to At Bat ratio (batting avg)\n",
    "juiced['AVG'] = juiced['H'] / juiced['AB']\n",
    "steroids['AVG'] = steroids['H'] / steroids['AB'] "
   ]
  },
  {
   "cell_type": "code",
   "execution_count": 20,
   "metadata": {},
   "outputs": [
    {
     "data": {
      "image/png": "[encoded data removed]",
      "text/plain": [
       "<Figure size 792x432 with 1 Axes>"
      ]
     },
     "metadata": {
      "needs_background": "light"
     },
     "output_type": "display_data"
    }
   ],
   "source": [
    "plt.figure(figsize=(11,6))\n",
    "sns.distplot(juiced['AVG'], bins=30,kde_kws={\"lw\": 2, \"label\": \"Juiced\"})\n",
    "sns.distplot(steroids['AVG'], bins=30,kde_kws={\"lw\": 2, \"label\": \"Steroids\"})\n",
    "plt.title(\"Batting Average\", fontsize=14);"
   ]
  },
  {
   "cell_type": "code",
   "execution_count": 21,
   "metadata": {},
   "outputs": [
    {
     "name": "stdout",
     "output_type": "stream",
     "text": [
      "T-Stat: 13.70934931371592 \n",
      "P-Value: 7.8742099225483e-42\n"
     ]
    }
   ],
   "source": [
    "t_stat_p_val_1('AVG')"
   ]
  },
  {
   "cell_type": "code",
   "execution_count": 22,
   "metadata": {},
   "outputs": [
    {
     "data": {
      "text/plain": [
       "(2.4493457342387512, 0.014352816461711874)"
      ]
     },
     "execution_count": 22,
     "metadata": {},
     "output_type": "execute_result"
    }
   ],
   "source": [
    "colname = 'H'\n",
    "t_stat, p_value = stats.ttest_ind(steroids[colname], juiced[colname], equal_var=False)\n",
    "t_stat, p_value"
   ]
  },
  {
   "cell_type": "code",
   "execution_count": 23,
   "metadata": {},
   "outputs": [
    {
     "data": {
      "image/png": "[encoded data removed]",
      "text/plain": [
       "<Figure size 864x576 with 1 Axes>"
      ]
     },
     "metadata": {
      "needs_background": "light"
     },
     "output_type": "display_data"
    }
   ],
   "source": [
    "xs = np.linspace(-5, 5, 200)\n",
    "ys = stats.t.pdf(xs, deg, 0, 1)\n",
    "\n",
    "fig = plt.figure(figsize=(12,8))\n",
    "\n",
    "ax = fig.gca()\n",
    "\n",
    "ax.plot(xs, ys, linewidth=3, color='darkblue')\n",
    "\n",
    "ax.axvline(t_stat, color='red', linestyle='--', lw=3,label='t-stat')\n",
    "\n",
    "ax.axvline(crit_val,color='green',linestyle='--',lw=3,label='critical t-value')\n",
    "\n",
    "ax.fill_betweenx(ys,xs,crit_val,where = xs > crit_val, color = 'plum')\n",
    "plt.title('T-Stat and Critical T-Value', fontsize=14)\n",
    "ax.legend()\n",
    "plt.show()"
   ]
  },
  {
   "cell_type": "markdown",
   "metadata": {},
   "source": [
    "### *Ho*: National League players have better batting averages\n",
    "\n",
    "### *Ha*: American League players have better batting averages"
   ]
  },
  {
   "cell_type": "code",
   "execution_count": 24,
   "metadata": {},
   "outputs": [],
   "source": [
    "NLSter = steroids[steroids['lgID']=='NL']\n",
    "ALSter = steroids[steroids['lgID']=='AL']\n",
    "\n",
    "NLJuice = juiced[juiced['lgID']=='NL']\n",
    "ALJuice = juiced[juiced['lgID']=='AL']"
   ]
  },
  {
   "cell_type": "code",
   "execution_count": 25,
   "metadata": {},
   "outputs": [],
   "source": [
    "NL = pd.concat([NLSter, NLJuice], ignore_index=True)\n",
    "AL = pd.concat([ALSter, ALJuice], ignore_index=True)"
   ]
  },
  {
   "cell_type": "code",
   "execution_count": 26,
   "metadata": {},
   "outputs": [
    {
     "name": "stdout",
     "output_type": "stream",
     "text": [
      "NL Mean: 0.26161966136046516 \n",
      "NL StDev: 0.03573001555296526 \n",
      "AL Mean 0.2600010153517902 \n",
      "AL StDev: 0.03508127199382807\n"
     ]
    }
   ],
   "source": [
    "print(\"NL Mean: {} \\nNL StDev: {} \\nAL Mean {} \\nAL StDev: {}\".format(NL.AVG.mean(),\n",
    "                                                                  NL.AVG.std(),\n",
    "                                                                  AL.AVG.mean(), \n",
    "                                                                  AL.AVG.std()))"
   ]
  },
  {
   "cell_type": "code",
   "execution_count": 27,
   "metadata": {},
   "outputs": [
    {
     "data": {
      "text/plain": [
       "1.64504"
      ]
     },
     "execution_count": 27,
     "metadata": {},
     "output_type": "execute_result"
    }
   ],
   "source": [
    "#critical value \n",
    "league_deg = len(AL) + len(NL) - 2\n",
    "league_crit_val = np.round(stats.t.ppf(1-0.05, df=league_deg), 5)\n",
    "league_crit_val"
   ]
  },
  {
   "cell_type": "code",
   "execution_count": 28,
   "metadata": {},
   "outputs": [
    {
     "data": {
      "text/plain": [
       "(2.043912227022809, 0.0409949361619532)"
      ]
     },
     "execution_count": 28,
     "metadata": {},
     "output_type": "execute_result"
    }
   ],
   "source": [
    "colname = 'AVG'\n",
    "t_stat_2, p_value_2 = stats.ttest_ind(NL[colname], AL[colname], equal_var=False)\n",
    "t_stat_2, p_value_2"
   ]
  },
  {
   "cell_type": "code",
   "execution_count": 29,
   "metadata": {},
   "outputs": [
    {
     "data": {
      "image/png": "[encoded data removed]",
      "text/plain": [
       "<Figure size 864x576 with 1 Axes>"
      ]
     },
     "metadata": {
      "needs_background": "light"
     },
     "output_type": "display_data"
    }
   ],
   "source": [
    "xs = np.linspace(-5, 5, 200)\n",
    "ys = stats.t.pdf(xs, deg, 0, 1)\n",
    "\n",
    "fig = plt.figure(figsize=(12,8))\n",
    "\n",
    "ax = fig.gca()\n",
    "\n",
    "ax.plot(xs, ys, linewidth=3, color='darkblue')\n",
    "\n",
    "ax.axvline(t_stat_2, color='red', linestyle='--', lw=3,label='t-stat')\n",
    "\n",
    "ax.axvline(league_crit_val,color='green',linestyle='--',lw=3,label='critical t-value')\n",
    "\n",
    "ax.fill_betweenx(ys,xs,league_crit_val,where = xs > league_crit_val, color = 'plum')\n",
    "plt.title('T-Stat and Critical T-Value')\n",
    "ax.legend()\n",
    "plt.show()"
   ]
  },
  {
   "cell_type": "markdown",
   "metadata": {},
   "source": [
    "### Home runs and stike outs?"
   ]
  },
  {
   "cell_type": "code",
   "execution_count": 30,
   "metadata": {},
   "outputs": [
    {
     "name": "stdout",
     "output_type": "stream",
     "text": [
      "Steroid Strikeout Mean: 58.79979271031266\n",
      "Steroid Stikeout StDev: 32.43454138310608\n",
      "\n",
      "Juiced Strikeout Mean: 77.61169007702765\n",
      "Juied Stikeout StDev: 39.05019329957749\n"
     ]
    }
   ],
   "source": [
    "print('Steroid Strikeout Mean: {}\\nSteroid Stikeout StDev: {}\\n'.format(steroids.SO.mean(), \n",
    "                                                                           steroids.SO.std()))\n",
    "\n",
    "print('Juiced Strikeout Mean: {}\\nJuied Stikeout StDev: {}'.format(juiced.SO.mean(), \n",
    "                                                                           juiced.SO.std()))"
   ]
  },
  {
   "cell_type": "code",
   "execution_count": 31,
   "metadata": {},
   "outputs": [
    {
     "data": {
      "text/plain": [
       "1.0544378255800135"
      ]
     },
     "execution_count": 31,
     "metadata": {},
     "output_type": "execute_result"
    }
   ],
   "source": [
    "#Bonds strikeout Z-score\n",
    "(93 - steroids.SO.mean())/steroids.SO.std()"
   ]
  },
  {
   "cell_type": "code",
   "execution_count": 32,
   "metadata": {},
   "outputs": [
    {
     "data": {
      "text/plain": [
       "2.1866296350419407"
      ]
     },
     "execution_count": 32,
     "metadata": {},
     "output_type": "execute_result"
    }
   ],
   "source": [
    "#Stantons strikeout Z-score\n",
    "(163 - juiced.SO.mean())/juiced.SO.std()"
   ]
  },
  {
   "cell_type": "code",
   "execution_count": 33,
   "metadata": {},
   "outputs": [
    {
     "data": {
      "text/plain": [
       "playerID    bondsba01\n",
       "yearID           2001\n",
       "stint               1\n",
       "teamID            SFN\n",
       "lgID               NL\n",
       "G                 153\n",
       "AB                476\n",
       "R                 129\n",
       "H                 156\n",
       "2B                 32\n",
       "3B                  2\n",
       "HR                 73\n",
       "RBI               137\n",
       "SB                 13\n",
       "CS                  3\n",
       "BB                177\n",
       "SO                 93\n",
       "IBB                35\n",
       "HBP                 9\n",
       "SH                  0\n",
       "SF                  2\n",
       "GIDP                5\n",
       "AVG          0.327731\n",
       "Name: 4506, dtype: object"
      ]
     },
     "execution_count": 33,
     "metadata": {},
     "output_type": "execute_result"
    }
   ],
   "source": [
    "steroids.loc[steroids['HR'].idxmax()] #Barry Bonds"
   ]
  },
  {
   "cell_type": "code",
   "execution_count": 34,
   "metadata": {},
   "outputs": [
    {
     "data": {
      "text/plain": [
       "playerID    stantmi03\n",
       "yearID           2017\n",
       "stint               1\n",
       "teamID            MIA\n",
       "lgID               NL\n",
       "G                 159\n",
       "AB                597\n",
       "R                 123\n",
       "H                 168\n",
       "2B                 32\n",
       "3B                  0\n",
       "HR                 59\n",
       "RBI               132\n",
       "SB                  2\n",
       "CS                  2\n",
       "BB                 85\n",
       "SO                163\n",
       "IBB                13\n",
       "HBP                 7\n",
       "SH                  0\n",
       "SF                  3\n",
       "GIDP               13\n",
       "AVG          0.281407\n",
       "Name: 1704, dtype: object"
      ]
     },
     "execution_count": 34,
     "metadata": {},
     "output_type": "execute_result"
    }
   ],
   "source": [
    " juiced.loc[juiced['HR'].idxmax()] #Mike (Giancarlo) Stanton"
   ]
  },
  {
   "cell_type": "code",
   "execution_count": 35,
   "metadata": {},
   "outputs": [
    {
     "data": {
      "image/png": "[encoded data removed]",
      "text/plain": [
       "<Figure size 576x576 with 3 Axes>"
      ]
     },
     "metadata": {
      "needs_background": "light"
     },
     "output_type": "display_data"
    }
   ],
   "source": [
    "sns.jointplot(x='HR', y='SO', data=steroids, kind='reg', height=8, color='darkred');"
   ]
  },
  {
   "cell_type": "code",
   "execution_count": 36,
   "metadata": {},
   "outputs": [
    {
     "data": {
      "image/png": "[encoded data removed]",
      "text/plain": [
       "<Figure size 576x576 with 3 Axes>"
      ]
     },
     "metadata": {
      "needs_background": "light"
     },
     "output_type": "display_data"
    }
   ],
   "source": [
    "sns.jointplot(x='HR', y='SO', data=juiced, kind='reg', height=8, color='green');"
   ]
  },
  {
   "cell_type": "code",
   "execution_count": 37,
   "metadata": {},
   "outputs": [
    {
     "data": {
      "text/plain": [
       "1.64504"
      ]
     },
     "execution_count": 37,
     "metadata": {},
     "output_type": "execute_result"
    }
   ],
   "source": [
    "#critical value \n",
    "deg = len(steroids) + len(juiced) - 2\n",
    "crit_val = np.round(stats.t.ppf(1-0.05, df=deg), 5)\n",
    "crit_val"
   ]
  },
  {
   "cell_type": "code",
   "execution_count": 41,
   "metadata": {},
   "outputs": [
    {
     "data": {
      "text/plain": [
       "(-0.02299052460481848, 0.9816584050390822)"
      ]
     },
     "execution_count": 41,
     "metadata": {},
     "output_type": "execute_result"
    }
   ],
   "source": [
    "colname = '2B'\n",
    "t_stat_3, p_value_3 = stats.ttest_ind(steroids[colname], juiced[colname])\n",
    "t_stat_3, p_value_3"
   ]
  },
  {
   "cell_type": "code",
   "execution_count": 39,
   "metadata": {},
   "outputs": [],
   "source": [
    "juiced['SOHR']  = juiced['HR']/juiced['SO']"
   ]
  },
  {
   "cell_type": "code",
   "execution_count": 40,
   "metadata": {},
   "outputs": [],
   "source": [
    "steroids['SOHR'] = steroids['HR']/steroids['SO']"
   ]
  },
  {
   "cell_type": "code",
   "execution_count": 52,
   "metadata": {},
   "outputs": [
    {
     "data": {
      "text/html": [
       "<div>\n",
       "<style scoped>\n",
       "    .dataframe tbody tr th:only-of-type {\n",
       "        vertical-align: middle;\n",
       "    }\n",
       "\n",
       "    .dataframe tbody tr th {\n",
       "        vertical-align: top;\n",
       "    }\n",
       "\n",
       "    .dataframe thead th {\n",
       "        text-align: right;\n",
       "    }\n",
       "</style>\n",
       "<table border=\"1\" class=\"dataframe\">\n",
       "  <thead>\n",
       "    <tr style=\"text-align: right;\">\n",
       "      <th></th>\n",
       "      <th>stint</th>\n",
       "      <th>G</th>\n",
       "      <th>AB</th>\n",
       "      <th>R</th>\n",
       "      <th>H</th>\n",
       "      <th>2B</th>\n",
       "      <th>3B</th>\n",
       "      <th>HR</th>\n",
       "      <th>RBI</th>\n",
       "      <th>SB</th>\n",
       "      <th>CS</th>\n",
       "      <th>BB</th>\n",
       "      <th>SO</th>\n",
       "      <th>IBB</th>\n",
       "      <th>HBP</th>\n",
       "      <th>SH</th>\n",
       "      <th>SF</th>\n",
       "      <th>GIDP</th>\n",
       "      <th>AVG</th>\n",
       "      <th>SOHR</th>\n",
       "    </tr>\n",
       "    <tr>\n",
       "      <th>yearID</th>\n",
       "      <th></th>\n",
       "      <th></th>\n",
       "      <th></th>\n",
       "      <th></th>\n",
       "      <th></th>\n",
       "      <th></th>\n",
       "      <th></th>\n",
       "      <th></th>\n",
       "      <th></th>\n",
       "      <th></th>\n",
       "      <th></th>\n",
       "      <th></th>\n",
       "      <th></th>\n",
       "      <th></th>\n",
       "      <th></th>\n",
       "      <th></th>\n",
       "      <th></th>\n",
       "      <th></th>\n",
       "      <th></th>\n",
       "      <th></th>\n",
       "    </tr>\n",
       "  </thead>\n",
       "  <tbody>\n",
       "    <tr>\n",
       "      <th>1990</th>\n",
       "      <td>396</td>\n",
       "      <td>41038</td>\n",
       "      <td>130451</td>\n",
       "      <td>16732</td>\n",
       "      <td>34470</td>\n",
       "      <td>6119</td>\n",
       "      <td>814</td>\n",
       "      <td>3179</td>\n",
       "      <td>15826.0</td>\n",
       "      <td>3132.0</td>\n",
       "      <td>1434.0</td>\n",
       "      <td>12958</td>\n",
       "      <td>20713.0</td>\n",
       "      <td>1328.0</td>\n",
       "      <td>785.0</td>\n",
       "      <td>993.0</td>\n",
       "      <td>1181.0</td>\n",
       "      <td>2838.0</td>\n",
       "      <td>97.177074</td>\n",
       "      <td>52.115735</td>\n",
       "    </tr>\n",
       "    <tr>\n",
       "      <th>1991</th>\n",
       "      <td>402</td>\n",
       "      <td>41761</td>\n",
       "      <td>131624</td>\n",
       "      <td>17173</td>\n",
       "      <td>34473</td>\n",
       "      <td>6162</td>\n",
       "      <td>853</td>\n",
       "      <td>3287</td>\n",
       "      <td>16202.0</td>\n",
       "      <td>2985.0</td>\n",
       "      <td>1494.0</td>\n",
       "      <td>13161</td>\n",
       "      <td>21408.0</td>\n",
       "      <td>1187.0</td>\n",
       "      <td>858.0</td>\n",
       "      <td>1090.0</td>\n",
       "      <td>1187.0</td>\n",
       "      <td>2816.0</td>\n",
       "      <td>97.927028</td>\n",
       "      <td>52.570329</td>\n",
       "    </tr>\n",
       "    <tr>\n",
       "      <th>1992</th>\n",
       "      <td>401</td>\n",
       "      <td>40910</td>\n",
       "      <td>131159</td>\n",
       "      <td>16303</td>\n",
       "      <td>34322</td>\n",
       "      <td>6212</td>\n",
       "      <td>802</td>\n",
       "      <td>2919</td>\n",
       "      <td>15438.0</td>\n",
       "      <td>3131.0</td>\n",
       "      <td>1502.0</td>\n",
       "      <td>12953</td>\n",
       "      <td>20585.0</td>\n",
       "      <td>1276.0</td>\n",
       "      <td>925.0</td>\n",
       "      <td>1090.0</td>\n",
       "      <td>1223.0</td>\n",
       "      <td>2898.0</td>\n",
       "      <td>98.171109</td>\n",
       "      <td>48.828193</td>\n",
       "    </tr>\n",
       "    <tr>\n",
       "      <th>1993</th>\n",
       "      <td>410</td>\n",
       "      <td>43085</td>\n",
       "      <td>141023</td>\n",
       "      <td>19542</td>\n",
       "      <td>38324</td>\n",
       "      <td>6985</td>\n",
       "      <td>891</td>\n",
       "      <td>3826</td>\n",
       "      <td>18398.0</td>\n",
       "      <td>3138.0</td>\n",
       "      <td>1571.0</td>\n",
       "      <td>14162</td>\n",
       "      <td>22689.0</td>\n",
       "      <td>1432.0</td>\n",
       "      <td>1127.0</td>\n",
       "      <td>1076.0</td>\n",
       "      <td>1338.0</td>\n",
       "      <td>3171.0</td>\n",
       "      <td>105.107705</td>\n",
       "      <td>63.436545</td>\n",
       "    </tr>\n",
       "    <tr>\n",
       "      <th>1994</th>\n",
       "      <td>363</td>\n",
       "      <td>29790</td>\n",
       "      <td>99765</td>\n",
       "      <td>14689</td>\n",
       "      <td>27539</td>\n",
       "      <td>5315</td>\n",
       "      <td>646</td>\n",
       "      <td>3138</td>\n",
       "      <td>13899.0</td>\n",
       "      <td>2171.0</td>\n",
       "      <td>971.0</td>\n",
       "      <td>10406</td>\n",
       "      <td>17051.0</td>\n",
       "      <td>976.0</td>\n",
       "      <td>811.0</td>\n",
       "      <td>705.0</td>\n",
       "      <td>924.0</td>\n",
       "      <td>2224.0</td>\n",
       "      <td>96.304801</td>\n",
       "      <td>61.770397</td>\n",
       "    </tr>\n",
       "    <tr>\n",
       "      <th>1995</th>\n",
       "      <td>412</td>\n",
       "      <td>38154</td>\n",
       "      <td>124776</td>\n",
       "      <td>18172</td>\n",
       "      <td>34229</td>\n",
       "      <td>6468</td>\n",
       "      <td>766</td>\n",
       "      <td>3882</td>\n",
       "      <td>17189.0</td>\n",
       "      <td>2802.0</td>\n",
       "      <td>1181.0</td>\n",
       "      <td>13130</td>\n",
       "      <td>21721.0</td>\n",
       "      <td>1060.0</td>\n",
       "      <td>1129.0</td>\n",
       "      <td>850.0</td>\n",
       "      <td>1081.0</td>\n",
       "      <td>2881.0</td>\n",
       "      <td>105.623944</td>\n",
       "      <td>65.370970</td>\n",
       "    </tr>\n",
       "    <tr>\n",
       "      <th>1996</th>\n",
       "      <td>438</td>\n",
       "      <td>43332</td>\n",
       "      <td>142469</td>\n",
       "      <td>21347</td>\n",
       "      <td>39434</td>\n",
       "      <td>7456</td>\n",
       "      <td>808</td>\n",
       "      <td>4744</td>\n",
       "      <td>20225.0</td>\n",
       "      <td>3073.0</td>\n",
       "      <td>1243.0</td>\n",
       "      <td>15016</td>\n",
       "      <td>25361.0</td>\n",
       "      <td>1302.0</td>\n",
       "      <td>1294.0</td>\n",
       "      <td>876.0</td>\n",
       "      <td>1304.0</td>\n",
       "      <td>3351.0</td>\n",
       "      <td>110.410215</td>\n",
       "      <td>69.538758</td>\n",
       "    </tr>\n",
       "    <tr>\n",
       "      <th>1997</th>\n",
       "      <td>450</td>\n",
       "      <td>43899</td>\n",
       "      <td>142585</td>\n",
       "      <td>20340</td>\n",
       "      <td>38930</td>\n",
       "      <td>7572</td>\n",
       "      <td>826</td>\n",
       "      <td>4452</td>\n",
       "      <td>19310.0</td>\n",
       "      <td>3169.0</td>\n",
       "      <td>1499.0</td>\n",
       "      <td>14774</td>\n",
       "      <td>26168.0</td>\n",
       "      <td>1134.0</td>\n",
       "      <td>1362.0</td>\n",
       "      <td>950.0</td>\n",
       "      <td>1311.0</td>\n",
       "      <td>3214.0</td>\n",
       "      <td>112.813754</td>\n",
       "      <td>66.364371</td>\n",
       "    </tr>\n",
       "    <tr>\n",
       "      <th>1998</th>\n",
       "      <td>475</td>\n",
       "      <td>46986</td>\n",
       "      <td>153208</td>\n",
       "      <td>21880</td>\n",
       "      <td>41785</td>\n",
       "      <td>8215</td>\n",
       "      <td>847</td>\n",
       "      <td>4874</td>\n",
       "      <td>20897.0</td>\n",
       "      <td>3131.0</td>\n",
       "      <td>1424.0</td>\n",
       "      <td>15466</td>\n",
       "      <td>27821.0</td>\n",
       "      <td>1046.0</td>\n",
       "      <td>1495.0</td>\n",
       "      <td>986.0</td>\n",
       "      <td>1339.0</td>\n",
       "      <td>3436.0</td>\n",
       "      <td>116.895302</td>\n",
       "      <td>70.292845</td>\n",
       "    </tr>\n",
       "    <tr>\n",
       "      <th>1999</th>\n",
       "      <td>450</td>\n",
       "      <td>46932</td>\n",
       "      <td>153319</td>\n",
       "      <td>23329</td>\n",
       "      <td>42626</td>\n",
       "      <td>8298</td>\n",
       "      <td>885</td>\n",
       "      <td>5311</td>\n",
       "      <td>22156.0</td>\n",
       "      <td>3292.0</td>\n",
       "      <td>1441.0</td>\n",
       "      <td>16831</td>\n",
       "      <td>27162.0</td>\n",
       "      <td>1078.0</td>\n",
       "      <td>1475.0</td>\n",
       "      <td>867.0</td>\n",
       "      <td>1389.0</td>\n",
       "      <td>3556.0</td>\n",
       "      <td>118.722508</td>\n",
       "      <td>78.455328</td>\n",
       "    </tr>\n",
       "    <tr>\n",
       "      <th>2000</th>\n",
       "      <td>507</td>\n",
       "      <td>46606</td>\n",
       "      <td>152696</td>\n",
       "      <td>23433</td>\n",
       "      <td>42326</td>\n",
       "      <td>8399</td>\n",
       "      <td>908</td>\n",
       "      <td>5472</td>\n",
       "      <td>22465.0</td>\n",
       "      <td>2784.0</td>\n",
       "      <td>1241.0</td>\n",
       "      <td>17123</td>\n",
       "      <td>27262.0</td>\n",
       "      <td>1170.0</td>\n",
       "      <td>1452.0</td>\n",
       "      <td>916.0</td>\n",
       "      <td>1420.0</td>\n",
       "      <td>3603.0</td>\n",
       "      <td>123.359084</td>\n",
       "      <td>85.152707</td>\n",
       "    </tr>\n",
       "    <tr>\n",
       "      <th>2001</th>\n",
       "      <td>458</td>\n",
       "      <td>45893</td>\n",
       "      <td>151410</td>\n",
       "      <td>21784</td>\n",
       "      <td>41055</td>\n",
       "      <td>8299</td>\n",
       "      <td>874</td>\n",
       "      <td>5215</td>\n",
       "      <td>20838.0</td>\n",
       "      <td>2963.0</td>\n",
       "      <td>1325.0</td>\n",
       "      <td>14788</td>\n",
       "      <td>27989.0</td>\n",
       "      <td>1347.0</td>\n",
       "      <td>1756.0</td>\n",
       "      <td>959.0</td>\n",
       "      <td>1334.0</td>\n",
       "      <td>3370.0</td>\n",
       "      <td>114.995360</td>\n",
       "      <td>74.489985</td>\n",
       "    </tr>\n",
       "    <tr>\n",
       "      <th>2002</th>\n",
       "      <td>467</td>\n",
       "      <td>46199</td>\n",
       "      <td>151964</td>\n",
       "      <td>21141</td>\n",
       "      <td>40629</td>\n",
       "      <td>8201</td>\n",
       "      <td>874</td>\n",
       "      <td>4888</td>\n",
       "      <td>20224.0</td>\n",
       "      <td>2615.0</td>\n",
       "      <td>1201.0</td>\n",
       "      <td>15337</td>\n",
       "      <td>27570.0</td>\n",
       "      <td>1405.0</td>\n",
       "      <td>1651.0</td>\n",
       "      <td>946.0</td>\n",
       "      <td>1318.0</td>\n",
       "      <td>3564.0</td>\n",
       "      <td>114.386851</td>\n",
       "      <td>73.106374</td>\n",
       "    </tr>\n",
       "    <tr>\n",
       "      <th>2003</th>\n",
       "      <td>475</td>\n",
       "      <td>46357</td>\n",
       "      <td>153106</td>\n",
       "      <td>21674</td>\n",
       "      <td>41464</td>\n",
       "      <td>8354</td>\n",
       "      <td>883</td>\n",
       "      <td>4993</td>\n",
       "      <td>20760.0</td>\n",
       "      <td>2464.0</td>\n",
       "      <td>1079.0</td>\n",
       "      <td>14967</td>\n",
       "      <td>26892.0</td>\n",
       "      <td>1285.0</td>\n",
       "      <td>1742.0</td>\n",
       "      <td>969.0</td>\n",
       "      <td>1261.0</td>\n",
       "      <td>3594.0</td>\n",
       "      <td>117.145584</td>\n",
       "      <td>76.963694</td>\n",
       "    </tr>\n",
       "  </tbody>\n",
       "</table>\n",
       "</div>"
      ],
      "text/plain": [
       "        stint      G      AB      R      H    2B   3B    HR      RBI      SB  \\\n",
       "yearID                                                                         \n",
       "1990      396  41038  130451  16732  34470  6119  814  3179  15826.0  3132.0   \n",
       "1991      402  41761  131624  17173  34473  6162  853  3287  16202.0  2985.0   \n",
       "1992      401  40910  131159  16303  34322  6212  802  2919  15438.0  3131.0   \n",
       "1993      410  43085  141023  19542  38324  6985  891  3826  18398.0  3138.0   \n",
       "1994      363  29790   99765  14689  27539  5315  646  3138  13899.0  2171.0   \n",
       "1995      412  38154  124776  18172  34229  6468  766  3882  17189.0  2802.0   \n",
       "1996      438  43332  142469  21347  39434  7456  808  4744  20225.0  3073.0   \n",
       "1997      450  43899  142585  20340  38930  7572  826  4452  19310.0  3169.0   \n",
       "1998      475  46986  153208  21880  41785  8215  847  4874  20897.0  3131.0   \n",
       "1999      450  46932  153319  23329  42626  8298  885  5311  22156.0  3292.0   \n",
       "2000      507  46606  152696  23433  42326  8399  908  5472  22465.0  2784.0   \n",
       "2001      458  45893  151410  21784  41055  8299  874  5215  20838.0  2963.0   \n",
       "2002      467  46199  151964  21141  40629  8201  874  4888  20224.0  2615.0   \n",
       "2003      475  46357  153106  21674  41464  8354  883  4993  20760.0  2464.0   \n",
       "\n",
       "            CS     BB       SO     IBB     HBP      SH      SF    GIDP  \\\n",
       "yearID                                                                   \n",
       "1990    1434.0  12958  20713.0  1328.0   785.0   993.0  1181.0  2838.0   \n",
       "1991    1494.0  13161  21408.0  1187.0   858.0  1090.0  1187.0  2816.0   \n",
       "1992    1502.0  12953  20585.0  1276.0   925.0  1090.0  1223.0  2898.0   \n",
       "1993    1571.0  14162  22689.0  1432.0  1127.0  1076.0  1338.0  3171.0   \n",
       "1994     971.0  10406  17051.0   976.0   811.0   705.0   924.0  2224.0   \n",
       "1995    1181.0  13130  21721.0  1060.0  1129.0   850.0  1081.0  2881.0   \n",
       "1996    1243.0  15016  25361.0  1302.0  1294.0   876.0  1304.0  3351.0   \n",
       "1997    1499.0  14774  26168.0  1134.0  1362.0   950.0  1311.0  3214.0   \n",
       "1998    1424.0  15466  27821.0  1046.0  1495.0   986.0  1339.0  3436.0   \n",
       "1999    1441.0  16831  27162.0  1078.0  1475.0   867.0  1389.0  3556.0   \n",
       "2000    1241.0  17123  27262.0  1170.0  1452.0   916.0  1420.0  3603.0   \n",
       "2001    1325.0  14788  27989.0  1347.0  1756.0   959.0  1334.0  3370.0   \n",
       "2002    1201.0  15337  27570.0  1405.0  1651.0   946.0  1318.0  3564.0   \n",
       "2003    1079.0  14967  26892.0  1285.0  1742.0   969.0  1261.0  3594.0   \n",
       "\n",
       "               AVG       SOHR  \n",
       "yearID                         \n",
       "1990     97.177074  52.115735  \n",
       "1991     97.927028  52.570329  \n",
       "1992     98.171109  48.828193  \n",
       "1993    105.107705  63.436545  \n",
       "1994     96.304801  61.770397  \n",
       "1995    105.623944  65.370970  \n",
       "1996    110.410215  69.538758  \n",
       "1997    112.813754  66.364371  \n",
       "1998    116.895302  70.292845  \n",
       "1999    118.722508  78.455328  \n",
       "2000    123.359084  85.152707  \n",
       "2001    114.995360  74.489985  \n",
       "2002    114.386851  73.106374  \n",
       "2003    117.145584  76.963694  "
      ]
     },
     "execution_count": 52,
     "metadata": {},
     "output_type": "execute_result"
    }
   ],
   "source": [
    "steroids.groupby('yearID').sum()"
   ]
  },
  {
   "cell_type": "code",
   "execution_count": 54,
   "metadata": {},
   "outputs": [
    {
     "data": {
      "text/html": [
       "<div>\n",
       "<style scoped>\n",
       "    .dataframe tbody tr th:only-of-type {\n",
       "        vertical-align: middle;\n",
       "    }\n",
       "\n",
       "    .dataframe tbody tr th {\n",
       "        vertical-align: top;\n",
       "    }\n",
       "\n",
       "    .dataframe thead th {\n",
       "        text-align: right;\n",
       "    }\n",
       "</style>\n",
       "<table border=\"1\" class=\"dataframe\">\n",
       "  <thead>\n",
       "    <tr style=\"text-align: right;\">\n",
       "      <th></th>\n",
       "      <th>stint</th>\n",
       "      <th>G</th>\n",
       "      <th>AB</th>\n",
       "      <th>R</th>\n",
       "      <th>H</th>\n",
       "      <th>2B</th>\n",
       "      <th>3B</th>\n",
       "      <th>HR</th>\n",
       "      <th>RBI</th>\n",
       "      <th>SB</th>\n",
       "      <th>CS</th>\n",
       "      <th>BB</th>\n",
       "      <th>SO</th>\n",
       "      <th>IBB</th>\n",
       "      <th>HBP</th>\n",
       "      <th>SH</th>\n",
       "      <th>SF</th>\n",
       "      <th>GIDP</th>\n",
       "      <th>AVG</th>\n",
       "      <th>SOHR</th>\n",
       "    </tr>\n",
       "    <tr>\n",
       "      <th>yearID</th>\n",
       "      <th></th>\n",
       "      <th></th>\n",
       "      <th></th>\n",
       "      <th></th>\n",
       "      <th></th>\n",
       "      <th></th>\n",
       "      <th></th>\n",
       "      <th></th>\n",
       "      <th></th>\n",
       "      <th></th>\n",
       "      <th></th>\n",
       "      <th></th>\n",
       "      <th></th>\n",
       "      <th></th>\n",
       "      <th></th>\n",
       "      <th></th>\n",
       "      <th></th>\n",
       "      <th></th>\n",
       "      <th></th>\n",
       "      <th></th>\n",
       "    </tr>\n",
       "  </thead>\n",
       "  <tbody>\n",
       "    <tr>\n",
       "      <th>2014</th>\n",
       "      <td>462</td>\n",
       "      <td>45453</td>\n",
       "      <td>150845</td>\n",
       "      <td>18493</td>\n",
       "      <td>38901</td>\n",
       "      <td>7643</td>\n",
       "      <td>799</td>\n",
       "      <td>3988</td>\n",
       "      <td>17605.0</td>\n",
       "      <td>2626.0</td>\n",
       "      <td>981.0</td>\n",
       "      <td>13140</td>\n",
       "      <td>32721.0</td>\n",
       "      <td>951.0</td>\n",
       "      <td>1526.0</td>\n",
       "      <td>694.0</td>\n",
       "      <td>1197.0</td>\n",
       "      <td>3312.0</td>\n",
       "      <td>110.535948</td>\n",
       "      <td>49.155459</td>\n",
       "    </tr>\n",
       "    <tr>\n",
       "      <th>2015</th>\n",
       "      <td>471</td>\n",
       "      <td>45428</td>\n",
       "      <td>150390</td>\n",
       "      <td>19282</td>\n",
       "      <td>39298</td>\n",
       "      <td>7733</td>\n",
       "      <td>888</td>\n",
       "      <td>4680</td>\n",
       "      <td>18506.0</td>\n",
       "      <td>2351.0</td>\n",
       "      <td>994.0</td>\n",
       "      <td>13088</td>\n",
       "      <td>32555.0</td>\n",
       "      <td>906.0</td>\n",
       "      <td>1482.0</td>\n",
       "      <td>614.0</td>\n",
       "      <td>1167.0</td>\n",
       "      <td>3464.0</td>\n",
       "      <td>111.969929</td>\n",
       "      <td>59.466336</td>\n",
       "    </tr>\n",
       "    <tr>\n",
       "      <th>2016</th>\n",
       "      <td>452</td>\n",
       "      <td>45838</td>\n",
       "      <td>151836</td>\n",
       "      <td>20476</td>\n",
       "      <td>39696</td>\n",
       "      <td>7788</td>\n",
       "      <td>821</td>\n",
       "      <td>5412</td>\n",
       "      <td>19613.0</td>\n",
       "      <td>2421.0</td>\n",
       "      <td>937.0</td>\n",
       "      <td>14204</td>\n",
       "      <td>34443.0</td>\n",
       "      <td>911.0</td>\n",
       "      <td>1548.0</td>\n",
       "      <td>495.0</td>\n",
       "      <td>1144.0</td>\n",
       "      <td>3446.0</td>\n",
       "      <td>110.842242</td>\n",
       "      <td>63.141660</td>\n",
       "    </tr>\n",
       "    <tr>\n",
       "      <th>2017</th>\n",
       "      <td>461</td>\n",
       "      <td>45663</td>\n",
       "      <td>151637</td>\n",
       "      <td>21276</td>\n",
       "      <td>39684</td>\n",
       "      <td>7953</td>\n",
       "      <td>738</td>\n",
       "      <td>5873</td>\n",
       "      <td>20379.0</td>\n",
       "      <td>2413.0</td>\n",
       "      <td>877.0</td>\n",
       "      <td>14855</td>\n",
       "      <td>35293.0</td>\n",
       "      <td>935.0</td>\n",
       "      <td>1654.0</td>\n",
       "      <td>387.0</td>\n",
       "      <td>1095.0</td>\n",
       "      <td>3532.0</td>\n",
       "      <td>111.693244</td>\n",
       "      <td>68.381794</td>\n",
       "    </tr>\n",
       "    <tr>\n",
       "      <th>2018</th>\n",
       "      <td>478</td>\n",
       "      <td>46018</td>\n",
       "      <td>151755</td>\n",
       "      <td>20375</td>\n",
       "      <td>38577</td>\n",
       "      <td>7804</td>\n",
       "      <td>802</td>\n",
       "      <td>5343</td>\n",
       "      <td>19466.0</td>\n",
       "      <td>2355.0</td>\n",
       "      <td>912.0</td>\n",
       "      <td>14740</td>\n",
       "      <td>36277.0</td>\n",
       "      <td>913.0</td>\n",
       "      <td>1812.0</td>\n",
       "      <td>376.0</td>\n",
       "      <td>1152.0</td>\n",
       "      <td>3190.0</td>\n",
       "      <td>111.349688</td>\n",
       "      <td>62.499037</td>\n",
       "    </tr>\n",
       "  </tbody>\n",
       "</table>\n",
       "</div>"
      ],
      "text/plain": [
       "        stint      G      AB      R      H    2B   3B    HR      RBI      SB  \\\n",
       "yearID                                                                         \n",
       "2014      462  45453  150845  18493  38901  7643  799  3988  17605.0  2626.0   \n",
       "2015      471  45428  150390  19282  39298  7733  888  4680  18506.0  2351.0   \n",
       "2016      452  45838  151836  20476  39696  7788  821  5412  19613.0  2421.0   \n",
       "2017      461  45663  151637  21276  39684  7953  738  5873  20379.0  2413.0   \n",
       "2018      478  46018  151755  20375  38577  7804  802  5343  19466.0  2355.0   \n",
       "\n",
       "           CS     BB       SO    IBB     HBP     SH      SF    GIDP  \\\n",
       "yearID                                                                \n",
       "2014    981.0  13140  32721.0  951.0  1526.0  694.0  1197.0  3312.0   \n",
       "2015    994.0  13088  32555.0  906.0  1482.0  614.0  1167.0  3464.0   \n",
       "2016    937.0  14204  34443.0  911.0  1548.0  495.0  1144.0  3446.0   \n",
       "2017    877.0  14855  35293.0  935.0  1654.0  387.0  1095.0  3532.0   \n",
       "2018    912.0  14740  36277.0  913.0  1812.0  376.0  1152.0  3190.0   \n",
       "\n",
       "               AVG       SOHR  \n",
       "yearID                         \n",
       "2014    110.535948  49.155459  \n",
       "2015    111.969929  59.466336  \n",
       "2016    110.842242  63.141660  \n",
       "2017    111.693244  68.381794  \n",
       "2018    111.349688  62.499037  "
      ]
     },
     "execution_count": 54,
     "metadata": {},
     "output_type": "execute_result"
    }
   ],
   "source": [
    "juiced.groupby('yearID').sum()"
   ]
  },
  {
   "cell_type": "code",
   "execution_count": null,
   "metadata": {},
   "outputs": [],
   "source": []
  },
  {
   "cell_type": "code",
   "execution_count": null,
   "metadata": {},
   "outputs": [],
   "source": []
  },
  {
   "cell_type": "code",
   "execution_count": null,
   "metadata": {},
   "outputs": [],
   "source": []
  },
  {
   "cell_type": "code",
   "execution_count": null,
   "metadata": {},
   "outputs": [],
   "source": []
  },
  {
   "cell_type": "code",
   "execution_count": null,
   "metadata": {},
   "outputs": [],
   "source": []
  },
  {
   "cell_type": "code",
   "execution_count": null,
   "metadata": {},
   "outputs": [],
   "source": []
  },
  {
   "cell_type": "code",
   "execution_count": null,
   "metadata": {},
   "outputs": [],
   "source": []
  },
  {
   "cell_type": "code",
   "execution_count": null,
   "metadata": {},
   "outputs": [],
   "source": []
  },
  {
   "cell_type": "code",
   "execution_count": null,
   "metadata": {},
   "outputs": [],
   "source": []
  },
  {
   "cell_type": "code",
   "execution_count": null,
   "metadata": {},
   "outputs": [],
   "source": []
  },
  {
   "cell_type": "code",
   "execution_count": null,
   "metadata": {},
   "outputs": [],
   "source": []
  },
  {
   "cell_type": "code",
   "execution_count": null,
   "metadata": {},
   "outputs": [],
   "source": []
  }
 ],
 "metadata": {
  "kernelspec": {
   "display_name": "Python 3",
   "language": "python",
   "name": "python3"
  },
  "language_info": {
   "codemirror_mode": {
    "name": "ipython",
    "version": 3
   },
   "file_extension": ".py",
   "mimetype": "text/x-python",
   "name": "python",
   "nbconvert_exporter": "python",
   "pygments_lexer": "ipython3",
   "version": "3.6.9"
  }
 },
 "nbformat": 4,
 "nbformat_minor": 2
}
