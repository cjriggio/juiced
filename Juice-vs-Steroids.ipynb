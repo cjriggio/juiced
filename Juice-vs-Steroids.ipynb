{
 "cells": [
  {
   "cell_type": "code",
   "execution_count": 2,
   "metadata": {},
   "outputs": [],
   "source": [
    "import pandas as pd\n",
    "import numpy as np\n",
    "from scipy import stats\n",
    "import math\n",
    "\n",
    "import seaborn as sns\n",
    "sns.set_style(\"darkgrid\")\n",
    "\n",
    "import matplotlib.pyplot as plt\n",
    "%matplotlib inline "
   ]
  },
  {
   "cell_type": "code",
   "execution_count": 3,
   "metadata": {},
   "outputs": [],
   "source": [
    "# playerID       Player ID code\n",
    "# yearID         Year\n",
    "# stint          player's stint (order of appearances within a season)\n",
    "# teamID         Team\n",
    "# lgID           League\n",
    "# G              Games\n",
    "# AB             At Bats\n",
    "# R              Runs\n",
    "# H              Hits\n",
    "# 2B             Doubles\n",
    "# 3B             Triples\n",
    "# HR             Homeruns\n",
    "# RBI            Runs Batted In\n",
    "# SB             Stolen Bases\n",
    "# CS             Caught Stealing\n",
    "# BB             Base on Balls\n",
    "# SO             Strikeouts\n",
    "# IBB            Intentional walks\n",
    "# HBP            Hit by pitch\n",
    "# SH             Sacrifice hits\n",
    "# SF             Sacrifice flies\n",
    "# GIDP           Grounded into double plays"
   ]
  },
  {
   "cell_type": "code",
   "execution_count": 4,
   "metadata": {},
   "outputs": [],
   "source": [
    "# pd.set_option('display.max_columns', 50)\n",
    "# pd.set_option('display.max_rows', 50)"
   ]
  },
  {
   "cell_type": "code",
   "execution_count": 5,
   "metadata": {},
   "outputs": [],
   "source": [
    "juiced = pd.read_csv(\"juiced.csv\")\n",
    "steroids = pd.read_csv(\"steroids.csv\")"
   ]
  },
  {
   "cell_type": "code",
   "execution_count": 6,
   "metadata": {},
   "outputs": [],
   "source": [
    "def remove_unnamed(df):\n",
    "    df.drop(['Unnamed: 0'], axis=1, inplace=True)\n",
    "    return df"
   ]
  },
  {
   "cell_type": "code",
   "execution_count": 7,
   "metadata": {},
   "outputs": [
    {
     "data": {
      "text/html": [
       "<div>\n",
       "<style scoped>\n",
       "    .dataframe tbody tr th:only-of-type {\n",
       "        vertical-align: middle;\n",
       "    }\n",
       "\n",
       "    .dataframe tbody tr th {\n",
       "        vertical-align: top;\n",
       "    }\n",
       "\n",
       "    .dataframe thead th {\n",
       "        text-align: right;\n",
       "    }\n",
       "</style>\n",
       "<table border=\"1\" class=\"dataframe\">\n",
       "  <thead>\n",
       "    <tr style=\"text-align: right;\">\n",
       "      <th></th>\n",
       "      <th>Unnamed: 0</th>\n",
       "      <th>playerID</th>\n",
       "      <th>yearID</th>\n",
       "      <th>stint</th>\n",
       "      <th>teamID</th>\n",
       "      <th>lgID</th>\n",
       "      <th>G</th>\n",
       "      <th>AB</th>\n",
       "      <th>R</th>\n",
       "      <th>H</th>\n",
       "      <th>...</th>\n",
       "      <th>RBI</th>\n",
       "      <th>SB</th>\n",
       "      <th>CS</th>\n",
       "      <th>BB</th>\n",
       "      <th>SO</th>\n",
       "      <th>IBB</th>\n",
       "      <th>HBP</th>\n",
       "      <th>SH</th>\n",
       "      <th>SF</th>\n",
       "      <th>GIDP</th>\n",
       "    </tr>\n",
       "  </thead>\n",
       "  <tbody>\n",
       "    <tr>\n",
       "      <th>0</th>\n",
       "      <td>98429</td>\n",
       "      <td>abreubo01</td>\n",
       "      <td>2014</td>\n",
       "      <td>1</td>\n",
       "      <td>NYN</td>\n",
       "      <td>NL</td>\n",
       "      <td>78</td>\n",
       "      <td>133</td>\n",
       "      <td>12</td>\n",
       "      <td>33</td>\n",
       "      <td>...</td>\n",
       "      <td>14.0</td>\n",
       "      <td>1.0</td>\n",
       "      <td>0.0</td>\n",
       "      <td>20</td>\n",
       "      <td>21.0</td>\n",
       "      <td>0.0</td>\n",
       "      <td>0.0</td>\n",
       "      <td>0.0</td>\n",
       "      <td>2.0</td>\n",
       "      <td>3.0</td>\n",
       "    </tr>\n",
       "    <tr>\n",
       "      <th>1</th>\n",
       "      <td>98430</td>\n",
       "      <td>abreujo02</td>\n",
       "      <td>2014</td>\n",
       "      <td>1</td>\n",
       "      <td>CHA</td>\n",
       "      <td>AL</td>\n",
       "      <td>145</td>\n",
       "      <td>556</td>\n",
       "      <td>80</td>\n",
       "      <td>176</td>\n",
       "      <td>...</td>\n",
       "      <td>107.0</td>\n",
       "      <td>3.0</td>\n",
       "      <td>1.0</td>\n",
       "      <td>51</td>\n",
       "      <td>131.0</td>\n",
       "      <td>15.0</td>\n",
       "      <td>11.0</td>\n",
       "      <td>0.0</td>\n",
       "      <td>4.0</td>\n",
       "      <td>14.0</td>\n",
       "    </tr>\n",
       "    <tr>\n",
       "      <th>2</th>\n",
       "      <td>98434</td>\n",
       "      <td>ackledu01</td>\n",
       "      <td>2014</td>\n",
       "      <td>1</td>\n",
       "      <td>SEA</td>\n",
       "      <td>AL</td>\n",
       "      <td>143</td>\n",
       "      <td>502</td>\n",
       "      <td>64</td>\n",
       "      <td>123</td>\n",
       "      <td>...</td>\n",
       "      <td>65.0</td>\n",
       "      <td>8.0</td>\n",
       "      <td>4.0</td>\n",
       "      <td>32</td>\n",
       "      <td>90.0</td>\n",
       "      <td>1.0</td>\n",
       "      <td>3.0</td>\n",
       "      <td>3.0</td>\n",
       "      <td>2.0</td>\n",
       "      <td>10.0</td>\n",
       "    </tr>\n",
       "    <tr>\n",
       "      <th>3</th>\n",
       "      <td>98438</td>\n",
       "      <td>adamsma01</td>\n",
       "      <td>2014</td>\n",
       "      <td>1</td>\n",
       "      <td>SLN</td>\n",
       "      <td>NL</td>\n",
       "      <td>142</td>\n",
       "      <td>527</td>\n",
       "      <td>55</td>\n",
       "      <td>152</td>\n",
       "      <td>...</td>\n",
       "      <td>68.0</td>\n",
       "      <td>3.0</td>\n",
       "      <td>2.0</td>\n",
       "      <td>26</td>\n",
       "      <td>114.0</td>\n",
       "      <td>5.0</td>\n",
       "      <td>3.0</td>\n",
       "      <td>0.0</td>\n",
       "      <td>7.0</td>\n",
       "      <td>9.0</td>\n",
       "    </tr>\n",
       "    <tr>\n",
       "      <th>4</th>\n",
       "      <td>98441</td>\n",
       "      <td>adducji02</td>\n",
       "      <td>2014</td>\n",
       "      <td>1</td>\n",
       "      <td>TEX</td>\n",
       "      <td>AL</td>\n",
       "      <td>44</td>\n",
       "      <td>101</td>\n",
       "      <td>13</td>\n",
       "      <td>17</td>\n",
       "      <td>...</td>\n",
       "      <td>8.0</td>\n",
       "      <td>3.0</td>\n",
       "      <td>1.0</td>\n",
       "      <td>10</td>\n",
       "      <td>27.0</td>\n",
       "      <td>0.0</td>\n",
       "      <td>0.0</td>\n",
       "      <td>1.0</td>\n",
       "      <td>2.0</td>\n",
       "      <td>2.0</td>\n",
       "    </tr>\n",
       "    <tr>\n",
       "      <th>...</th>\n",
       "      <td>...</td>\n",
       "      <td>...</td>\n",
       "      <td>...</td>\n",
       "      <td>...</td>\n",
       "      <td>...</td>\n",
       "      <td>...</td>\n",
       "      <td>...</td>\n",
       "      <td>...</td>\n",
       "      <td>...</td>\n",
       "      <td>...</td>\n",
       "      <td>...</td>\n",
       "      <td>...</td>\n",
       "      <td>...</td>\n",
       "      <td>...</td>\n",
       "      <td>...</td>\n",
       "      <td>...</td>\n",
       "      <td>...</td>\n",
       "      <td>...</td>\n",
       "      <td>...</td>\n",
       "      <td>...</td>\n",
       "      <td>...</td>\n",
       "    </tr>\n",
       "    <tr>\n",
       "      <th>2202</th>\n",
       "      <td>105849</td>\n",
       "      <td>younger03</td>\n",
       "      <td>2018</td>\n",
       "      <td>1</td>\n",
       "      <td>LAA</td>\n",
       "      <td>AL</td>\n",
       "      <td>41</td>\n",
       "      <td>109</td>\n",
       "      <td>12</td>\n",
       "      <td>22</td>\n",
       "      <td>...</td>\n",
       "      <td>8.0</td>\n",
       "      <td>5.0</td>\n",
       "      <td>1.0</td>\n",
       "      <td>6</td>\n",
       "      <td>28.0</td>\n",
       "      <td>0.0</td>\n",
       "      <td>1.0</td>\n",
       "      <td>0.0</td>\n",
       "      <td>1.0</td>\n",
       "      <td>4.0</td>\n",
       "    </tr>\n",
       "    <tr>\n",
       "      <th>2203</th>\n",
       "      <td>105856</td>\n",
       "      <td>zimmebr01</td>\n",
       "      <td>2018</td>\n",
       "      <td>1</td>\n",
       "      <td>CLE</td>\n",
       "      <td>AL</td>\n",
       "      <td>34</td>\n",
       "      <td>106</td>\n",
       "      <td>14</td>\n",
       "      <td>24</td>\n",
       "      <td>...</td>\n",
       "      <td>9.0</td>\n",
       "      <td>4.0</td>\n",
       "      <td>1.0</td>\n",
       "      <td>7</td>\n",
       "      <td>44.0</td>\n",
       "      <td>0.0</td>\n",
       "      <td>1.0</td>\n",
       "      <td>0.0</td>\n",
       "      <td>0.0</td>\n",
       "      <td>1.0</td>\n",
       "    </tr>\n",
       "    <tr>\n",
       "      <th>2204</th>\n",
       "      <td>105858</td>\n",
       "      <td>zimmery01</td>\n",
       "      <td>2018</td>\n",
       "      <td>1</td>\n",
       "      <td>WAS</td>\n",
       "      <td>NL</td>\n",
       "      <td>85</td>\n",
       "      <td>288</td>\n",
       "      <td>33</td>\n",
       "      <td>76</td>\n",
       "      <td>...</td>\n",
       "      <td>51.0</td>\n",
       "      <td>1.0</td>\n",
       "      <td>1.0</td>\n",
       "      <td>30</td>\n",
       "      <td>55.0</td>\n",
       "      <td>1.0</td>\n",
       "      <td>3.0</td>\n",
       "      <td>0.0</td>\n",
       "      <td>2.0</td>\n",
       "      <td>10.0</td>\n",
       "    </tr>\n",
       "    <tr>\n",
       "      <th>2205</th>\n",
       "      <td>105859</td>\n",
       "      <td>zobribe01</td>\n",
       "      <td>2018</td>\n",
       "      <td>1</td>\n",
       "      <td>CHN</td>\n",
       "      <td>NL</td>\n",
       "      <td>139</td>\n",
       "      <td>455</td>\n",
       "      <td>67</td>\n",
       "      <td>139</td>\n",
       "      <td>...</td>\n",
       "      <td>58.0</td>\n",
       "      <td>3.0</td>\n",
       "      <td>4.0</td>\n",
       "      <td>55</td>\n",
       "      <td>60.0</td>\n",
       "      <td>1.0</td>\n",
       "      <td>2.0</td>\n",
       "      <td>1.0</td>\n",
       "      <td>7.0</td>\n",
       "      <td>8.0</td>\n",
       "    </tr>\n",
       "    <tr>\n",
       "      <th>2206</th>\n",
       "      <td>105860</td>\n",
       "      <td>zuninmi01</td>\n",
       "      <td>2018</td>\n",
       "      <td>1</td>\n",
       "      <td>SEA</td>\n",
       "      <td>AL</td>\n",
       "      <td>113</td>\n",
       "      <td>373</td>\n",
       "      <td>37</td>\n",
       "      <td>75</td>\n",
       "      <td>...</td>\n",
       "      <td>44.0</td>\n",
       "      <td>0.0</td>\n",
       "      <td>0.0</td>\n",
       "      <td>24</td>\n",
       "      <td>150.0</td>\n",
       "      <td>0.0</td>\n",
       "      <td>6.0</td>\n",
       "      <td>0.0</td>\n",
       "      <td>2.0</td>\n",
       "      <td>7.0</td>\n",
       "    </tr>\n",
       "  </tbody>\n",
       "</table>\n",
       "<p>2207 rows × 23 columns</p>\n",
       "</div>"
      ],
      "text/plain": [
       "      Unnamed: 0   playerID  yearID  stint teamID lgID    G   AB   R    H  \\\n",
       "0          98429  abreubo01    2014      1    NYN   NL   78  133  12   33   \n",
       "1          98430  abreujo02    2014      1    CHA   AL  145  556  80  176   \n",
       "2          98434  ackledu01    2014      1    SEA   AL  143  502  64  123   \n",
       "3          98438  adamsma01    2014      1    SLN   NL  142  527  55  152   \n",
       "4          98441  adducji02    2014      1    TEX   AL   44  101  13   17   \n",
       "...          ...        ...     ...    ...    ...  ...  ...  ...  ..  ...   \n",
       "2202      105849  younger03    2018      1    LAA   AL   41  109  12   22   \n",
       "2203      105856  zimmebr01    2018      1    CLE   AL   34  106  14   24   \n",
       "2204      105858  zimmery01    2018      1    WAS   NL   85  288  33   76   \n",
       "2205      105859  zobribe01    2018      1    CHN   NL  139  455  67  139   \n",
       "2206      105860  zuninmi01    2018      1    SEA   AL  113  373  37   75   \n",
       "\n",
       "      ...    RBI   SB   CS  BB     SO   IBB   HBP   SH   SF  GIDP  \n",
       "0     ...   14.0  1.0  0.0  20   21.0   0.0   0.0  0.0  2.0   3.0  \n",
       "1     ...  107.0  3.0  1.0  51  131.0  15.0  11.0  0.0  4.0  14.0  \n",
       "2     ...   65.0  8.0  4.0  32   90.0   1.0   3.0  3.0  2.0  10.0  \n",
       "3     ...   68.0  3.0  2.0  26  114.0   5.0   3.0  0.0  7.0   9.0  \n",
       "4     ...    8.0  3.0  1.0  10   27.0   0.0   0.0  1.0  2.0   2.0  \n",
       "...   ...    ...  ...  ...  ..    ...   ...   ...  ...  ...   ...  \n",
       "2202  ...    8.0  5.0  1.0   6   28.0   0.0   1.0  0.0  1.0   4.0  \n",
       "2203  ...    9.0  4.0  1.0   7   44.0   0.0   1.0  0.0  0.0   1.0  \n",
       "2204  ...   51.0  1.0  1.0  30   55.0   1.0   3.0  0.0  2.0  10.0  \n",
       "2205  ...   58.0  3.0  4.0  55   60.0   1.0   2.0  1.0  7.0   8.0  \n",
       "2206  ...   44.0  0.0  0.0  24  150.0   0.0   6.0  0.0  2.0   7.0  \n",
       "\n",
       "[2207 rows x 23 columns]"
      ]
     },
     "execution_count": 7,
     "metadata": {},
     "output_type": "execute_result"
    }
   ],
   "source": [
    "juiced"
   ]
  },
  {
   "cell_type": "code",
   "execution_count": 8,
   "metadata": {},
   "outputs": [
    {
     "data": {
      "text/html": [
       "<div>\n",
       "<style scoped>\n",
       "    .dataframe tbody tr th:only-of-type {\n",
       "        vertical-align: middle;\n",
       "    }\n",
       "\n",
       "    .dataframe tbody tr th {\n",
       "        vertical-align: top;\n",
       "    }\n",
       "\n",
       "    .dataframe thead th {\n",
       "        text-align: right;\n",
       "    }\n",
       "</style>\n",
       "<table border=\"1\" class=\"dataframe\">\n",
       "  <thead>\n",
       "    <tr style=\"text-align: right;\">\n",
       "      <th></th>\n",
       "      <th>playerID</th>\n",
       "      <th>yearID</th>\n",
       "      <th>stint</th>\n",
       "      <th>teamID</th>\n",
       "      <th>lgID</th>\n",
       "      <th>G</th>\n",
       "      <th>AB</th>\n",
       "      <th>R</th>\n",
       "      <th>H</th>\n",
       "      <th>2B</th>\n",
       "      <th>...</th>\n",
       "      <th>RBI</th>\n",
       "      <th>SB</th>\n",
       "      <th>CS</th>\n",
       "      <th>BB</th>\n",
       "      <th>SO</th>\n",
       "      <th>IBB</th>\n",
       "      <th>HBP</th>\n",
       "      <th>SH</th>\n",
       "      <th>SF</th>\n",
       "      <th>GIDP</th>\n",
       "    </tr>\n",
       "  </thead>\n",
       "  <tbody>\n",
       "    <tr>\n",
       "      <th>0</th>\n",
       "      <td>abnersh01</td>\n",
       "      <td>1990</td>\n",
       "      <td>1</td>\n",
       "      <td>SDN</td>\n",
       "      <td>NL</td>\n",
       "      <td>91</td>\n",
       "      <td>184</td>\n",
       "      <td>17</td>\n",
       "      <td>45</td>\n",
       "      <td>9</td>\n",
       "      <td>...</td>\n",
       "      <td>15.0</td>\n",
       "      <td>2.0</td>\n",
       "      <td>3.0</td>\n",
       "      <td>9</td>\n",
       "      <td>28.0</td>\n",
       "      <td>1.0</td>\n",
       "      <td>2.0</td>\n",
       "      <td>2.0</td>\n",
       "      <td>1.0</td>\n",
       "      <td>3.0</td>\n",
       "    </tr>\n",
       "    <tr>\n",
       "      <th>1</th>\n",
       "      <td>aldremi01</td>\n",
       "      <td>1990</td>\n",
       "      <td>1</td>\n",
       "      <td>MON</td>\n",
       "      <td>NL</td>\n",
       "      <td>96</td>\n",
       "      <td>161</td>\n",
       "      <td>22</td>\n",
       "      <td>39</td>\n",
       "      <td>7</td>\n",
       "      <td>...</td>\n",
       "      <td>18.0</td>\n",
       "      <td>1.0</td>\n",
       "      <td>2.0</td>\n",
       "      <td>37</td>\n",
       "      <td>31.0</td>\n",
       "      <td>2.0</td>\n",
       "      <td>1.0</td>\n",
       "      <td>0.0</td>\n",
       "      <td>1.0</td>\n",
       "      <td>2.0</td>\n",
       "    </tr>\n",
       "    <tr>\n",
       "      <th>2</th>\n",
       "      <td>alomaro01</td>\n",
       "      <td>1990</td>\n",
       "      <td>1</td>\n",
       "      <td>SDN</td>\n",
       "      <td>NL</td>\n",
       "      <td>147</td>\n",
       "      <td>586</td>\n",
       "      <td>80</td>\n",
       "      <td>168</td>\n",
       "      <td>27</td>\n",
       "      <td>...</td>\n",
       "      <td>60.0</td>\n",
       "      <td>24.0</td>\n",
       "      <td>7.0</td>\n",
       "      <td>48</td>\n",
       "      <td>72.0</td>\n",
       "      <td>1.0</td>\n",
       "      <td>2.0</td>\n",
       "      <td>5.0</td>\n",
       "      <td>5.0</td>\n",
       "      <td>16.0</td>\n",
       "    </tr>\n",
       "    <tr>\n",
       "      <th>3</th>\n",
       "      <td>alomasa02</td>\n",
       "      <td>1990</td>\n",
       "      <td>1</td>\n",
       "      <td>CLE</td>\n",
       "      <td>AL</td>\n",
       "      <td>132</td>\n",
       "      <td>445</td>\n",
       "      <td>60</td>\n",
       "      <td>129</td>\n",
       "      <td>26</td>\n",
       "      <td>...</td>\n",
       "      <td>66.0</td>\n",
       "      <td>4.0</td>\n",
       "      <td>1.0</td>\n",
       "      <td>25</td>\n",
       "      <td>46.0</td>\n",
       "      <td>2.0</td>\n",
       "      <td>2.0</td>\n",
       "      <td>5.0</td>\n",
       "      <td>6.0</td>\n",
       "      <td>10.0</td>\n",
       "    </tr>\n",
       "    <tr>\n",
       "      <th>4</th>\n",
       "      <td>anderbr01</td>\n",
       "      <td>1990</td>\n",
       "      <td>1</td>\n",
       "      <td>BAL</td>\n",
       "      <td>AL</td>\n",
       "      <td>89</td>\n",
       "      <td>234</td>\n",
       "      <td>24</td>\n",
       "      <td>54</td>\n",
       "      <td>5</td>\n",
       "      <td>...</td>\n",
       "      <td>24.0</td>\n",
       "      <td>15.0</td>\n",
       "      <td>2.0</td>\n",
       "      <td>31</td>\n",
       "      <td>46.0</td>\n",
       "      <td>2.0</td>\n",
       "      <td>5.0</td>\n",
       "      <td>4.0</td>\n",
       "      <td>5.0</td>\n",
       "      <td>4.0</td>\n",
       "    </tr>\n",
       "  </tbody>\n",
       "</table>\n",
       "<p>5 rows × 22 columns</p>\n",
       "</div>"
      ],
      "text/plain": [
       "    playerID  yearID  stint teamID lgID    G   AB   R    H  2B  ...   RBI  \\\n",
       "0  abnersh01    1990      1    SDN   NL   91  184  17   45   9  ...  15.0   \n",
       "1  aldremi01    1990      1    MON   NL   96  161  22   39   7  ...  18.0   \n",
       "2  alomaro01    1990      1    SDN   NL  147  586  80  168  27  ...  60.0   \n",
       "3  alomasa02    1990      1    CLE   AL  132  445  60  129  26  ...  66.0   \n",
       "4  anderbr01    1990      1    BAL   AL   89  234  24   54   5  ...  24.0   \n",
       "\n",
       "     SB   CS  BB    SO  IBB  HBP   SH   SF  GIDP  \n",
       "0   2.0  3.0   9  28.0  1.0  2.0  2.0  1.0   3.0  \n",
       "1   1.0  2.0  37  31.0  2.0  1.0  0.0  1.0   2.0  \n",
       "2  24.0  7.0  48  72.0  1.0  2.0  5.0  5.0  16.0  \n",
       "3   4.0  1.0  25  46.0  2.0  2.0  5.0  6.0  10.0  \n",
       "4  15.0  2.0  31  46.0  2.0  5.0  4.0  5.0   4.0  \n",
       "\n",
       "[5 rows x 22 columns]"
      ]
     },
     "execution_count": 8,
     "metadata": {},
     "output_type": "execute_result"
    }
   ],
   "source": [
    "steroids = remove_unnamed(steroids)\n",
    "steroids.head()"
   ]
  },
  {
   "cell_type": "code",
   "execution_count": 9,
   "metadata": {},
   "outputs": [
    {
     "data": {
      "text/html": [
       "<div>\n",
       "<style scoped>\n",
       "    .dataframe tbody tr th:only-of-type {\n",
       "        vertical-align: middle;\n",
       "    }\n",
       "\n",
       "    .dataframe tbody tr th {\n",
       "        vertical-align: top;\n",
       "    }\n",
       "\n",
       "    .dataframe thead th {\n",
       "        text-align: right;\n",
       "    }\n",
       "</style>\n",
       "<table border=\"1\" class=\"dataframe\">\n",
       "  <thead>\n",
       "    <tr style=\"text-align: right;\">\n",
       "      <th></th>\n",
       "      <th>playerID</th>\n",
       "      <th>yearID</th>\n",
       "      <th>stint</th>\n",
       "      <th>teamID</th>\n",
       "      <th>lgID</th>\n",
       "      <th>G</th>\n",
       "      <th>AB</th>\n",
       "      <th>R</th>\n",
       "      <th>H</th>\n",
       "      <th>2B</th>\n",
       "      <th>...</th>\n",
       "      <th>RBI</th>\n",
       "      <th>SB</th>\n",
       "      <th>CS</th>\n",
       "      <th>BB</th>\n",
       "      <th>SO</th>\n",
       "      <th>IBB</th>\n",
       "      <th>HBP</th>\n",
       "      <th>SH</th>\n",
       "      <th>SF</th>\n",
       "      <th>GIDP</th>\n",
       "    </tr>\n",
       "  </thead>\n",
       "  <tbody>\n",
       "    <tr>\n",
       "      <th>0</th>\n",
       "      <td>abreubo01</td>\n",
       "      <td>2014</td>\n",
       "      <td>1</td>\n",
       "      <td>NYN</td>\n",
       "      <td>NL</td>\n",
       "      <td>78</td>\n",
       "      <td>133</td>\n",
       "      <td>12</td>\n",
       "      <td>33</td>\n",
       "      <td>9</td>\n",
       "      <td>...</td>\n",
       "      <td>14.0</td>\n",
       "      <td>1.0</td>\n",
       "      <td>0.0</td>\n",
       "      <td>20</td>\n",
       "      <td>21.0</td>\n",
       "      <td>0.0</td>\n",
       "      <td>0.0</td>\n",
       "      <td>0.0</td>\n",
       "      <td>2.0</td>\n",
       "      <td>3.0</td>\n",
       "    </tr>\n",
       "    <tr>\n",
       "      <th>1</th>\n",
       "      <td>abreujo02</td>\n",
       "      <td>2014</td>\n",
       "      <td>1</td>\n",
       "      <td>CHA</td>\n",
       "      <td>AL</td>\n",
       "      <td>145</td>\n",
       "      <td>556</td>\n",
       "      <td>80</td>\n",
       "      <td>176</td>\n",
       "      <td>35</td>\n",
       "      <td>...</td>\n",
       "      <td>107.0</td>\n",
       "      <td>3.0</td>\n",
       "      <td>1.0</td>\n",
       "      <td>51</td>\n",
       "      <td>131.0</td>\n",
       "      <td>15.0</td>\n",
       "      <td>11.0</td>\n",
       "      <td>0.0</td>\n",
       "      <td>4.0</td>\n",
       "      <td>14.0</td>\n",
       "    </tr>\n",
       "    <tr>\n",
       "      <th>2</th>\n",
       "      <td>ackledu01</td>\n",
       "      <td>2014</td>\n",
       "      <td>1</td>\n",
       "      <td>SEA</td>\n",
       "      <td>AL</td>\n",
       "      <td>143</td>\n",
       "      <td>502</td>\n",
       "      <td>64</td>\n",
       "      <td>123</td>\n",
       "      <td>27</td>\n",
       "      <td>...</td>\n",
       "      <td>65.0</td>\n",
       "      <td>8.0</td>\n",
       "      <td>4.0</td>\n",
       "      <td>32</td>\n",
       "      <td>90.0</td>\n",
       "      <td>1.0</td>\n",
       "      <td>3.0</td>\n",
       "      <td>3.0</td>\n",
       "      <td>2.0</td>\n",
       "      <td>10.0</td>\n",
       "    </tr>\n",
       "    <tr>\n",
       "      <th>3</th>\n",
       "      <td>adamsma01</td>\n",
       "      <td>2014</td>\n",
       "      <td>1</td>\n",
       "      <td>SLN</td>\n",
       "      <td>NL</td>\n",
       "      <td>142</td>\n",
       "      <td>527</td>\n",
       "      <td>55</td>\n",
       "      <td>152</td>\n",
       "      <td>34</td>\n",
       "      <td>...</td>\n",
       "      <td>68.0</td>\n",
       "      <td>3.0</td>\n",
       "      <td>2.0</td>\n",
       "      <td>26</td>\n",
       "      <td>114.0</td>\n",
       "      <td>5.0</td>\n",
       "      <td>3.0</td>\n",
       "      <td>0.0</td>\n",
       "      <td>7.0</td>\n",
       "      <td>9.0</td>\n",
       "    </tr>\n",
       "    <tr>\n",
       "      <th>4</th>\n",
       "      <td>adducji02</td>\n",
       "      <td>2014</td>\n",
       "      <td>1</td>\n",
       "      <td>TEX</td>\n",
       "      <td>AL</td>\n",
       "      <td>44</td>\n",
       "      <td>101</td>\n",
       "      <td>13</td>\n",
       "      <td>17</td>\n",
       "      <td>3</td>\n",
       "      <td>...</td>\n",
       "      <td>8.0</td>\n",
       "      <td>3.0</td>\n",
       "      <td>1.0</td>\n",
       "      <td>10</td>\n",
       "      <td>27.0</td>\n",
       "      <td>0.0</td>\n",
       "      <td>0.0</td>\n",
       "      <td>1.0</td>\n",
       "      <td>2.0</td>\n",
       "      <td>2.0</td>\n",
       "    </tr>\n",
       "  </tbody>\n",
       "</table>\n",
       "<p>5 rows × 22 columns</p>\n",
       "</div>"
      ],
      "text/plain": [
       "    playerID  yearID  stint teamID lgID    G   AB   R    H  2B  ...    RBI  \\\n",
       "0  abreubo01    2014      1    NYN   NL   78  133  12   33   9  ...   14.0   \n",
       "1  abreujo02    2014      1    CHA   AL  145  556  80  176  35  ...  107.0   \n",
       "2  ackledu01    2014      1    SEA   AL  143  502  64  123  27  ...   65.0   \n",
       "3  adamsma01    2014      1    SLN   NL  142  527  55  152  34  ...   68.0   \n",
       "4  adducji02    2014      1    TEX   AL   44  101  13   17   3  ...    8.0   \n",
       "\n",
       "    SB   CS  BB     SO   IBB   HBP   SH   SF  GIDP  \n",
       "0  1.0  0.0  20   21.0   0.0   0.0  0.0  2.0   3.0  \n",
       "1  3.0  1.0  51  131.0  15.0  11.0  0.0  4.0  14.0  \n",
       "2  8.0  4.0  32   90.0   1.0   3.0  3.0  2.0  10.0  \n",
       "3  3.0  2.0  26  114.0   5.0   3.0  0.0  7.0   9.0  \n",
       "4  3.0  1.0  10   27.0   0.0   0.0  1.0  2.0   2.0  \n",
       "\n",
       "[5 rows x 22 columns]"
      ]
     },
     "execution_count": 9,
     "metadata": {},
     "output_type": "execute_result"
    }
   ],
   "source": [
    "juiced = remove_unnamed(juiced)\n",
    "juiced.head()"
   ]
  },
  {
   "cell_type": "code",
   "execution_count": 10,
   "metadata": {},
   "outputs": [
    {
     "name": "stdout",
     "output_type": "stream",
     "text": [
      "Steroid Mean: 10.395577820003455 \n",
      "Steroid StDev: 11.461712732215677 \n",
      "\n",
      "Juice Mean: 10.122573994956918 \n",
      "Juice StDev: 9.532654065338109\n"
     ]
    }
   ],
   "source": [
    "print(\"Steroid Mean: {} \\nSteroid StDev: {} \\n\\nJuice Mean: {} \\nJuice StDev: {}\".format(steroids.HR.mean(), \n",
    "                                                                                     juiced.HR.mean(),\n",
    "                                                                                     steroids.HR.std(), \n",
    "                                                                                     juiced.HR.std()))"
   ]
  },
  {
   "cell_type": "code",
   "execution_count": 11,
   "metadata": {},
   "outputs": [],
   "source": [
    "t_stat, p_value = stats.ttest_ind(steroids['H'], juiced['H'], equal_var=False)"
   ]
  },
  {
   "cell_type": "code",
   "execution_count": 12,
   "metadata": {},
   "outputs": [
    {
     "data": {
      "text/plain": [
       "(2.4493457342387512, 0.014352816461711874)"
      ]
     },
     "execution_count": 12,
     "metadata": {},
     "output_type": "execute_result"
    }
   ],
   "source": [
    "t_stat, p_value"
   ]
  },
  {
   "cell_type": "code",
   "execution_count": 13,
   "metadata": {},
   "outputs": [],
   "source": [
    "def t_stat_p_val_1(col_name):\n",
    "    t_stat, p_value = stats.ttest_ind(steroids[col_name], juiced[col_name], equal_var=False)\n",
    "    print('T-Stat: {} \\nP-Value: {}'.format(t_stat, p_value))"
   ]
  },
  {
   "cell_type": "code",
   "execution_count": 14,
   "metadata": {},
   "outputs": [],
   "source": [
    "def t_stat_p_val_2(col_name):\n",
    "    t_stat, p_value = stats.ttest_ind(juiced[col_name], steroids[col_name], equal_var=False)\n",
    "    print('T-Stat: {} \\nP-Value: {}'.format(t_stat, p_value))"
   ]
  },
  {
   "cell_type": "code",
   "execution_count": 15,
   "metadata": {},
   "outputs": [
    {
     "name": "stdout",
     "output_type": "stream",
     "text": [
      "T-Stat: 2.4493457342387512 \n",
      "P-Value: 0.014352816461711874\n"
     ]
    }
   ],
   "source": [
    "t_stat_p_val_1('H') #hits"
   ]
  },
  {
   "cell_type": "code",
   "execution_count": 16,
   "metadata": {},
   "outputs": [
    {
     "name": "stdout",
     "output_type": "stream",
     "text": [
      "T-Stat: -0.023326832269210052 \n",
      "P-Value: 0.9813907017728931\n"
     ]
    }
   ],
   "source": [
    "t_stat_p_val_1('2B') #doubles"
   ]
  },
  {
   "cell_type": "code",
   "execution_count": 17,
   "metadata": {},
   "outputs": [
    {
     "name": "stdout",
     "output_type": "stream",
     "text": [
      "T-Stat: -4.393886471217105 \n",
      "P-Value: 1.1407979205065639e-05\n"
     ]
    }
   ],
   "source": [
    "t_stat_p_val_1('HR') #home runs "
   ]
  },
  {
   "cell_type": "code",
   "execution_count": 18,
   "metadata": {},
   "outputs": [
    {
     "name": "stdout",
     "output_type": "stream",
     "text": [
      "T-Stat: -20.137596547351038 \n",
      "P-Value: 2.4730525003046932e-85\n"
     ]
    }
   ],
   "source": [
    "t_stat_p_val_1('SO') #strike outs "
   ]
  },
  {
   "cell_type": "code",
   "execution_count": 19,
   "metadata": {},
   "outputs": [
    {
     "data": {
      "text/plain": [
       "1.64504"
      ]
     },
     "execution_count": 19,
     "metadata": {},
     "output_type": "execute_result"
    }
   ],
   "source": [
    "#critical value \n",
    "deg = len(steroids) + len(juiced) - 2\n",
    "crit_val = np.round(stats.t.ppf(1-0.05, df=deg), 5)\n",
    "crit_val"
   ]
  },
  {
   "cell_type": "markdown",
   "metadata": {},
   "source": [
    "### *Ho*: Steroid Era players were better hitters\n",
    "\n",
    "### *Ha*: Steroid Era players were not better hitters  "
   ]
  },
  {
   "cell_type": "code",
   "execution_count": 20,
   "metadata": {},
   "outputs": [
    {
     "name": "stdout",
     "output_type": "stream",
     "text": [
      "Steroid Mean: 91.83036793919503 \n",
      "Steroid StDev: 88.87902129587675 \n",
      "Juice Mean: 49.55414799492732 \n",
      "Juice StDev: 47.62552578782344\n"
     ]
    }
   ],
   "source": [
    "colname = 'H'\n",
    "print(\"Steroid Mean: {} \\nSteroid StDev: {} \\nJuice Mean: {} \\nJuice StDev: {}\".format(steroids[colname].mean(), \n",
    "                                                                                     juiced[colname].mean(),\n",
    "                                                                                     steroids[colname].std(), \n",
    "                                                                                     juiced[colname].std()))"
   ]
  },
  {
   "cell_type": "code",
   "execution_count": 21,
   "metadata": {},
   "outputs": [],
   "source": [
    "#Hit to At Bat ratio (batting avg)\n",
    "juiced['AVG'] = juiced['H'] / juiced['AB']\n",
    "steroids['AVG'] = steroids['H'] / steroids['AB'] "
   ]
  },
  {
   "cell_type": "code",
   "execution_count": 22,
   "metadata": {},
   "outputs": [
    {
     "data": {
      "image/png": "[encoded data removed]",
      "text/plain": [
       "<Figure size 792x432 with 1 Axes>"
      ]
     },
     "metadata": {
      "needs_background": "light"
     },
     "output_type": "display_data"
    }
   ],
   "source": [
    "plt.figure(figsize=(11,6))\n",
    "sns.distplot(juiced['AVG'], bins=30,kde_kws={\"lw\": 2, \"label\": \"Juiced\"})\n",
    "sns.distplot(steroids['AVG'], bins=30,kde_kws={\"lw\": 2, \"label\": \"Steroids\"})\n",
    "plt.title(\"Batting Average\", fontsize=14);"
   ]
  },
  {
   "cell_type": "code",
   "execution_count": 23,
   "metadata": {},
   "outputs": [
    {
     "name": "stdout",
     "output_type": "stream",
     "text": [
      "T-Stat: 13.70934931371592 \n",
      "P-Value: 7.8742099225483e-42\n"
     ]
    }
   ],
   "source": [
    "t_stat_p_val_1('AVG')"
   ]
  },
  {
   "cell_type": "code",
   "execution_count": 24,
   "metadata": {},
   "outputs": [
    {
     "data": {
      "text/plain": [
       "(2.4493457342387512, 0.014352816461711874)"
      ]
     },
     "execution_count": 24,
     "metadata": {},
     "output_type": "execute_result"
    }
   ],
   "source": [
    "colname = 'H'\n",
    "t_stat, p_value = stats.ttest_ind(steroids[colname], juiced[colname], equal_var=False)\n",
    "t_stat, p_value"
   ]
  },
  {
   "cell_type": "code",
   "execution_count": 25,
   "metadata": {},
   "outputs": [
    {
     "data": {
      "image/png": "[encoded data removed]",
      "text/plain": [
       "<Figure size 864x576 with 1 Axes>"
      ]
     },
     "metadata": {
      "needs_background": "light"
     },
     "output_type": "display_data"
    }
   ],
   "source": [
    "xs = np.linspace(-5, 5, 200)\n",
    "ys = stats.t.pdf(xs, deg, 0, 1)\n",
    "\n",
    "fig = plt.figure(figsize=(12,8))\n",
    "\n",
    "ax = fig.gca()\n",
    "\n",
    "ax.plot(xs, ys, linewidth=3, color='darkblue')\n",
    "\n",
    "ax.axvline(t_stat, color='red', linestyle='--', lw=3,label='t-stat')\n",
    "\n",
    "ax.axvline(crit_val,color='green',linestyle='--',lw=3,label='critical t-value')\n",
    "\n",
    "ax.fill_betweenx(ys,xs,crit_val,where = xs > crit_val, color = 'plum')\n",
    "plt.title('T-Stat and Critical T-Value', fontsize=14)\n",
    "ax.legend()\n",
    "plt.show()"
   ]
  },
  {
   "cell_type": "markdown",
   "metadata": {},
   "source": [
    "### *Ho*: National League players have better batting averages\n",
    "\n",
    "### *Ha*: American League players have better batting averages"
   ]
  },
  {
   "cell_type": "code",
   "execution_count": 26,
   "metadata": {},
   "outputs": [],
   "source": [
    "NLSter = steroids[steroids['lgID']=='NL']\n",
    "ALSter = steroids[steroids['lgID']=='AL']\n",
    "\n",
    "NLJuice = juiced[juiced['lgID']=='NL']\n",
    "ALJuice = juiced[juiced['lgID']=='AL']"
   ]
  },
  {
   "cell_type": "code",
   "execution_count": 27,
   "metadata": {},
   "outputs": [],
   "source": [
    "NL = pd.concat([NLSter, NLJuice], ignore_index=True)\n",
    "AL = pd.concat([ALSter, ALJuice], ignore_index=True)"
   ]
  },
  {
   "cell_type": "code",
   "execution_count": 28,
   "metadata": {},
   "outputs": [
    {
     "name": "stdout",
     "output_type": "stream",
     "text": [
      "NL Mean: 0.26161966136046516 \n",
      "NL StDev: 0.03573001555296526 \n",
      "AL Mean 0.2600010153517902 \n",
      "AL StDev: 0.03508127199382807\n"
     ]
    }
   ],
   "source": [
    "print(\"NL Mean: {} \\nNL StDev: {} \\nAL Mean {} \\nAL StDev: {}\".format(NL.AVG.mean(),\n",
    "                                                                  NL.AVG.std(),\n",
    "                                                                  AL.AVG.mean(), \n",
    "                                                                  AL.AVG.std()))"
   ]
  },
  {
   "cell_type": "code",
   "execution_count": 29,
   "metadata": {},
   "outputs": [
    {
     "data": {
      "text/plain": [
       "1.64504"
      ]
     },
     "execution_count": 29,
     "metadata": {},
     "output_type": "execute_result"
    }
   ],
   "source": [
    "#critical value \n",
    "league_deg = len(AL) + len(NL) - 2\n",
    "league_crit_val = np.round(stats.t.ppf(1-0.05, df=league_deg), 5)\n",
    "league_crit_val"
   ]
  },
  {
   "cell_type": "code",
   "execution_count": 30,
   "metadata": {},
   "outputs": [
    {
     "data": {
      "text/plain": [
       "(2.043912227022809, 0.0409949361619532)"
      ]
     },
     "execution_count": 30,
     "metadata": {},
     "output_type": "execute_result"
    }
   ],
   "source": [
    "colname = 'AVG'\n",
    "t_stat_2, p_value_2 = stats.ttest_ind(NL[colname], AL[colname], equal_var=False)\n",
    "t_stat_2, p_value_2"
   ]
  },
  {
   "cell_type": "code",
   "execution_count": 31,
   "metadata": {},
   "outputs": [
    {
     "data": {
      "image/png": "[encoded data removed]",
      "text/plain": [
       "<Figure size 864x576 with 1 Axes>"
      ]
     },
     "metadata": {
      "needs_background": "light"
     },
     "output_type": "display_data"
    }
   ],
   "source": [
    "xs = np.linspace(-5, 5, 200)\n",
    "ys = stats.t.pdf(xs, deg, 0, 1)\n",
    "\n",
    "fig = plt.figure(figsize=(12,8))\n",
    "\n",
    "ax = fig.gca()\n",
    "\n",
    "ax.plot(xs, ys, linewidth=3, color='darkblue')\n",
    "\n",
    "ax.axvline(t_stat_2, color='red', linestyle='--', lw=3,label='t-stat')\n",
    "\n",
    "ax.axvline(league_crit_val,color='green',linestyle='--',lw=3,label='critical t-value')\n",
    "\n",
    "ax.fill_betweenx(ys,xs,league_crit_val,where = xs > league_crit_val, color = 'plum')\n",
    "plt.title('T-Stat and Critical T-Value')\n",
    "ax.legend()\n",
    "plt.show()"
   ]
  },
  {
   "cell_type": "markdown",
   "metadata": {},
   "source": [
    "### Home runs and stike outs?"
   ]
  },
  {
   "cell_type": "code",
   "execution_count": 32,
   "metadata": {},
   "outputs": [
    {
     "name": "stdout",
     "output_type": "stream",
     "text": [
      "Steroid Strikeout Mean: 58.79979271031266\n",
      "Steroid Stikeout StDev: 32.43454138310608\n",
      "\n",
      "Juiced Strikeout Mean: 77.61169007702765\n",
      "Juied Stikeout StDev: 39.05019329957749\n"
     ]
    }
   ],
   "source": [
    "print('Steroid Strikeout Mean: {}\\nSteroid Stikeout StDev: {}\\n'.format(steroids.SO.mean(), \n",
    "                                                                           steroids.SO.std()))\n",
    "\n",
    "print('Juiced Strikeout Mean: {}\\nJuied Stikeout StDev: {}'.format(juiced.SO.mean(), \n",
    "                                                                           juiced.SO.std()))"
   ]
  },
  {
   "cell_type": "code",
   "execution_count": 33,
   "metadata": {},
   "outputs": [
    {
     "data": {
      "text/plain": [
       "1.0544378255800135"
      ]
     },
     "execution_count": 33,
     "metadata": {},
     "output_type": "execute_result"
    }
   ],
   "source": [
    "#Bonds strikeout Z-score\n",
    "(93 - steroids.SO.mean())/steroids.SO.std()"
   ]
  },
  {
   "cell_type": "code",
   "execution_count": 34,
   "metadata": {},
   "outputs": [
    {
     "data": {
      "text/plain": [
       "2.1866296350419407"
      ]
     },
     "execution_count": 34,
     "metadata": {},
     "output_type": "execute_result"
    }
   ],
   "source": [
    "#Stantons strikeout Z-score\n",
    "(163 - juiced.SO.mean())/juiced.SO.std()"
   ]
  },
  {
   "cell_type": "code",
   "execution_count": 35,
   "metadata": {},
   "outputs": [
    {
     "data": {
      "text/plain": [
       "playerID    bondsba01\n",
       "yearID           2001\n",
       "stint               1\n",
       "teamID            SFN\n",
       "lgID               NL\n",
       "G                 153\n",
       "AB                476\n",
       "R                 129\n",
       "H                 156\n",
       "2B                 32\n",
       "3B                  2\n",
       "HR                 73\n",
       "RBI               137\n",
       "SB                 13\n",
       "CS                  3\n",
       "BB                177\n",
       "SO                 93\n",
       "IBB                35\n",
       "HBP                 9\n",
       "SH                  0\n",
       "SF                  2\n",
       "GIDP                5\n",
       "AVG          0.327731\n",
       "Name: 4506, dtype: object"
      ]
     },
     "execution_count": 35,
     "metadata": {},
     "output_type": "execute_result"
    }
   ],
   "source": [
    "steroids.loc[steroids['HR'].idxmax()] #Barry Bonds"
   ]
  },
  {
   "cell_type": "code",
   "execution_count": 36,
   "metadata": {},
   "outputs": [
    {
     "data": {
      "text/plain": [
       "playerID    stantmi03\n",
       "yearID           2017\n",
       "stint               1\n",
       "teamID            MIA\n",
       "lgID               NL\n",
       "G                 159\n",
       "AB                597\n",
       "R                 123\n",
       "H                 168\n",
       "2B                 32\n",
       "3B                  0\n",
       "HR                 59\n",
       "RBI               132\n",
       "SB                  2\n",
       "CS                  2\n",
       "BB                 85\n",
       "SO                163\n",
       "IBB                13\n",
       "HBP                 7\n",
       "SH                  0\n",
       "SF                  3\n",
       "GIDP               13\n",
       "AVG          0.281407\n",
       "Name: 1704, dtype: object"
      ]
     },
     "execution_count": 36,
     "metadata": {},
     "output_type": "execute_result"
    }
   ],
   "source": [
    " juiced.loc[juiced['HR'].idxmax()] #Mike (Giancarlo) Stanton"
   ]
  },
  {
   "cell_type": "code",
   "execution_count": 37,
   "metadata": {},
   "outputs": [
    {
     "data": {
      "image/png": "[encoded data removed]",
      "text/plain": [
       "<Figure size 576x576 with 3 Axes>"
      ]
     },
     "metadata": {
      "needs_background": "light"
     },
     "output_type": "display_data"
    }
   ],
   "source": [
    "sns.jointplot(x='SO', y='HR', data=steroids, kind='reg', height=8, color='darkred');"
   ]
  },
  {
   "cell_type": "code",
   "execution_count": 38,
   "metadata": {},
   "outputs": [
    {
     "data": {
      "image/png": "[encoded data removed]",
      "text/plain": [
       "<Figure size 576x576 with 3 Axes>"
      ]
     },
     "metadata": {
      "needs_background": "light"
     },
     "output_type": "display_data"
    }
   ],
   "source": [
    "sns.jointplot(x='SO', y='HR', data=juiced, kind='reg', height=8, color='green');"
   ]
  },
  {
   "cell_type": "code",
   "execution_count": 39,
   "metadata": {},
   "outputs": [
    {
     "data": {
      "text/plain": [
       "1.64504"
      ]
     },
     "execution_count": 39,
     "metadata": {},
     "output_type": "execute_result"
    }
   ],
   "source": [
    "#critical value \n",
    "deg = len(steroids) + len(juiced) - 2\n",
    "crit_val = np.round(stats.t.ppf(1-0.05, df=deg), 5)\n",
    "crit_val"
   ]
  },
  {
   "cell_type": "code",
   "execution_count": 40,
   "metadata": {},
   "outputs": [
    {
     "data": {
      "text/plain": [
       "(-0.02299052460481848, 0.9816584050390822)"
      ]
     },
     "execution_count": 40,
     "metadata": {},
     "output_type": "execute_result"
    }
   ],
   "source": [
    "colname = '2B'\n",
    "t_stat_3, p_value_3 = stats.ttest_ind(steroids[colname], juiced[colname])\n",
    "t_stat_3, p_value_3"
   ]
  },
  {
   "cell_type": "code",
   "execution_count": 41,
   "metadata": {},
   "outputs": [],
   "source": [
    "juiced['SOHR']  = juiced['HR']/juiced['SO']"
   ]
  },
  {
   "cell_type": "code",
   "execution_count": 42,
   "metadata": {},
   "outputs": [],
   "source": [
    "steroids['SOHR'] = steroids['HR']/steroids['SO']"
   ]
  },
  {
   "cell_type": "code",
   "execution_count": 53,
   "metadata": {},
   "outputs": [
    {
     "data": {
      "text/html": [
       "<div>\n",
       "<style scoped>\n",
       "    .dataframe tbody tr th:only-of-type {\n",
       "        vertical-align: middle;\n",
       "    }\n",
       "\n",
       "    .dataframe tbody tr th {\n",
       "        vertical-align: top;\n",
       "    }\n",
       "\n",
       "    .dataframe thead th {\n",
       "        text-align: right;\n",
       "    }\n",
       "</style>\n",
       "<table border=\"1\" class=\"dataframe\">\n",
       "  <thead>\n",
       "    <tr style=\"text-align: right;\">\n",
       "      <th></th>\n",
       "      <th>stint</th>\n",
       "      <th>G</th>\n",
       "      <th>AB</th>\n",
       "      <th>R</th>\n",
       "      <th>H</th>\n",
       "      <th>2B</th>\n",
       "      <th>3B</th>\n",
       "      <th>HR</th>\n",
       "      <th>RBI</th>\n",
       "      <th>SB</th>\n",
       "      <th>CS</th>\n",
       "      <th>BB</th>\n",
       "      <th>SO</th>\n",
       "      <th>IBB</th>\n",
       "      <th>HBP</th>\n",
       "      <th>SH</th>\n",
       "      <th>SF</th>\n",
       "      <th>GIDP</th>\n",
       "      <th>AVG</th>\n",
       "      <th>SOHR</th>\n",
       "    </tr>\n",
       "    <tr>\n",
       "      <th>yearID</th>\n",
       "      <th></th>\n",
       "      <th></th>\n",
       "      <th></th>\n",
       "      <th></th>\n",
       "      <th></th>\n",
       "      <th></th>\n",
       "      <th></th>\n",
       "      <th></th>\n",
       "      <th></th>\n",
       "      <th></th>\n",
       "      <th></th>\n",
       "      <th></th>\n",
       "      <th></th>\n",
       "      <th></th>\n",
       "      <th></th>\n",
       "      <th></th>\n",
       "      <th></th>\n",
       "      <th></th>\n",
       "      <th></th>\n",
       "      <th></th>\n",
       "    </tr>\n",
       "  </thead>\n",
       "  <tbody>\n",
       "    <tr>\n",
       "      <th>1990</th>\n",
       "      <td>1.050398</td>\n",
       "      <td>108.854111</td>\n",
       "      <td>346.023873</td>\n",
       "      <td>44.381963</td>\n",
       "      <td>91.432361</td>\n",
       "      <td>16.230769</td>\n",
       "      <td>2.159151</td>\n",
       "      <td>8.432361</td>\n",
       "      <td>41.978780</td>\n",
       "      <td>8.307692</td>\n",
       "      <td>3.803714</td>\n",
       "      <td>34.371353</td>\n",
       "      <td>54.941645</td>\n",
       "      <td>3.522546</td>\n",
       "      <td>2.082228</td>\n",
       "      <td>2.633952</td>\n",
       "      <td>3.132626</td>\n",
       "      <td>7.527851</td>\n",
       "      <td>0.257764</td>\n",
       "      <td>0.138238</td>\n",
       "    </tr>\n",
       "    <tr>\n",
       "      <th>1991</th>\n",
       "      <td>1.038760</td>\n",
       "      <td>107.909561</td>\n",
       "      <td>340.113695</td>\n",
       "      <td>44.374677</td>\n",
       "      <td>89.077519</td>\n",
       "      <td>15.922481</td>\n",
       "      <td>2.204134</td>\n",
       "      <td>8.493540</td>\n",
       "      <td>41.865633</td>\n",
       "      <td>7.713178</td>\n",
       "      <td>3.860465</td>\n",
       "      <td>34.007752</td>\n",
       "      <td>55.317829</td>\n",
       "      <td>3.067183</td>\n",
       "      <td>2.217054</td>\n",
       "      <td>2.816537</td>\n",
       "      <td>3.067183</td>\n",
       "      <td>7.276486</td>\n",
       "      <td>0.253041</td>\n",
       "      <td>0.135841</td>\n",
       "    </tr>\n",
       "    <tr>\n",
       "      <th>1992</th>\n",
       "      <td>1.038860</td>\n",
       "      <td>105.984456</td>\n",
       "      <td>339.790155</td>\n",
       "      <td>42.235751</td>\n",
       "      <td>88.917098</td>\n",
       "      <td>16.093264</td>\n",
       "      <td>2.077720</td>\n",
       "      <td>7.562176</td>\n",
       "      <td>39.994819</td>\n",
       "      <td>8.111399</td>\n",
       "      <td>3.891192</td>\n",
       "      <td>33.556995</td>\n",
       "      <td>53.329016</td>\n",
       "      <td>3.305699</td>\n",
       "      <td>2.396373</td>\n",
       "      <td>2.823834</td>\n",
       "      <td>3.168394</td>\n",
       "      <td>7.507772</td>\n",
       "      <td>0.254329</td>\n",
       "      <td>0.126498</td>\n",
       "    </tr>\n",
       "    <tr>\n",
       "      <th>1993</th>\n",
       "      <td>1.032746</td>\n",
       "      <td>108.526448</td>\n",
       "      <td>355.221662</td>\n",
       "      <td>49.224181</td>\n",
       "      <td>96.534005</td>\n",
       "      <td>17.594458</td>\n",
       "      <td>2.244332</td>\n",
       "      <td>9.637280</td>\n",
       "      <td>46.342569</td>\n",
       "      <td>7.904282</td>\n",
       "      <td>3.957179</td>\n",
       "      <td>35.672544</td>\n",
       "      <td>57.151134</td>\n",
       "      <td>3.607053</td>\n",
       "      <td>2.838791</td>\n",
       "      <td>2.710327</td>\n",
       "      <td>3.370277</td>\n",
       "      <td>7.987406</td>\n",
       "      <td>0.264755</td>\n",
       "      <td>0.159790</td>\n",
       "    </tr>\n",
       "    <tr>\n",
       "      <th>1994</th>\n",
       "      <td>1.019663</td>\n",
       "      <td>83.679775</td>\n",
       "      <td>280.238764</td>\n",
       "      <td>41.261236</td>\n",
       "      <td>77.356742</td>\n",
       "      <td>14.929775</td>\n",
       "      <td>1.814607</td>\n",
       "      <td>8.814607</td>\n",
       "      <td>39.042135</td>\n",
       "      <td>6.098315</td>\n",
       "      <td>2.727528</td>\n",
       "      <td>29.230337</td>\n",
       "      <td>47.896067</td>\n",
       "      <td>2.741573</td>\n",
       "      <td>2.278090</td>\n",
       "      <td>1.980337</td>\n",
       "      <td>2.595506</td>\n",
       "      <td>6.247191</td>\n",
       "      <td>0.270519</td>\n",
       "      <td>0.173512</td>\n",
       "    </tr>\n",
       "    <tr>\n",
       "      <th>1995</th>\n",
       "      <td>1.045685</td>\n",
       "      <td>96.837563</td>\n",
       "      <td>316.690355</td>\n",
       "      <td>46.121827</td>\n",
       "      <td>86.875635</td>\n",
       "      <td>16.416244</td>\n",
       "      <td>1.944162</td>\n",
       "      <td>9.852792</td>\n",
       "      <td>43.626904</td>\n",
       "      <td>7.111675</td>\n",
       "      <td>2.997462</td>\n",
       "      <td>33.324873</td>\n",
       "      <td>55.129442</td>\n",
       "      <td>2.690355</td>\n",
       "      <td>2.865482</td>\n",
       "      <td>2.157360</td>\n",
       "      <td>2.743655</td>\n",
       "      <td>7.312183</td>\n",
       "      <td>0.268081</td>\n",
       "      <td>0.165916</td>\n",
       "    </tr>\n",
       "    <tr>\n",
       "      <th>1996</th>\n",
       "      <td>1.063107</td>\n",
       "      <td>105.174757</td>\n",
       "      <td>345.798544</td>\n",
       "      <td>51.813107</td>\n",
       "      <td>95.713592</td>\n",
       "      <td>18.097087</td>\n",
       "      <td>1.961165</td>\n",
       "      <td>11.514563</td>\n",
       "      <td>49.089806</td>\n",
       "      <td>7.458738</td>\n",
       "      <td>3.016990</td>\n",
       "      <td>36.446602</td>\n",
       "      <td>61.555825</td>\n",
       "      <td>3.160194</td>\n",
       "      <td>3.140777</td>\n",
       "      <td>2.126214</td>\n",
       "      <td>3.165049</td>\n",
       "      <td>8.133495</td>\n",
       "      <td>0.267986</td>\n",
       "      <td>0.168783</td>\n",
       "    </tr>\n",
       "    <tr>\n",
       "      <th>1997</th>\n",
       "      <td>1.063830</td>\n",
       "      <td>103.780142</td>\n",
       "      <td>337.080378</td>\n",
       "      <td>48.085106</td>\n",
       "      <td>92.033097</td>\n",
       "      <td>17.900709</td>\n",
       "      <td>1.952719</td>\n",
       "      <td>10.524823</td>\n",
       "      <td>45.650118</td>\n",
       "      <td>7.491726</td>\n",
       "      <td>3.543735</td>\n",
       "      <td>34.926714</td>\n",
       "      <td>61.862884</td>\n",
       "      <td>2.680851</td>\n",
       "      <td>3.219858</td>\n",
       "      <td>2.245863</td>\n",
       "      <td>3.099291</td>\n",
       "      <td>7.598109</td>\n",
       "      <td>0.266699</td>\n",
       "      <td>0.156890</td>\n",
       "    </tr>\n",
       "    <tr>\n",
       "      <th>1998</th>\n",
       "      <td>1.077098</td>\n",
       "      <td>106.544218</td>\n",
       "      <td>347.410431</td>\n",
       "      <td>49.614512</td>\n",
       "      <td>94.750567</td>\n",
       "      <td>18.628118</td>\n",
       "      <td>1.920635</td>\n",
       "      <td>11.052154</td>\n",
       "      <td>47.385488</td>\n",
       "      <td>7.099773</td>\n",
       "      <td>3.229025</td>\n",
       "      <td>35.070295</td>\n",
       "      <td>63.086168</td>\n",
       "      <td>2.371882</td>\n",
       "      <td>3.390023</td>\n",
       "      <td>2.235828</td>\n",
       "      <td>3.036281</td>\n",
       "      <td>7.791383</td>\n",
       "      <td>0.265069</td>\n",
       "      <td>0.159394</td>\n",
       "    </tr>\n",
       "    <tr>\n",
       "      <th>1999</th>\n",
       "      <td>1.029748</td>\n",
       "      <td>107.395881</td>\n",
       "      <td>350.844394</td>\n",
       "      <td>53.384439</td>\n",
       "      <td>97.542334</td>\n",
       "      <td>18.988558</td>\n",
       "      <td>2.025172</td>\n",
       "      <td>12.153318</td>\n",
       "      <td>50.700229</td>\n",
       "      <td>7.533181</td>\n",
       "      <td>3.297483</td>\n",
       "      <td>38.514874</td>\n",
       "      <td>62.155606</td>\n",
       "      <td>2.466819</td>\n",
       "      <td>3.375286</td>\n",
       "      <td>1.983982</td>\n",
       "      <td>3.178490</td>\n",
       "      <td>8.137300</td>\n",
       "      <td>0.271676</td>\n",
       "      <td>0.179532</td>\n",
       "    </tr>\n",
       "    <tr>\n",
       "      <th>2000</th>\n",
       "      <td>1.106987</td>\n",
       "      <td>101.759825</td>\n",
       "      <td>333.397380</td>\n",
       "      <td>51.163755</td>\n",
       "      <td>92.414847</td>\n",
       "      <td>18.338428</td>\n",
       "      <td>1.982533</td>\n",
       "      <td>11.947598</td>\n",
       "      <td>49.050218</td>\n",
       "      <td>6.078603</td>\n",
       "      <td>2.709607</td>\n",
       "      <td>37.386463</td>\n",
       "      <td>59.524017</td>\n",
       "      <td>2.554585</td>\n",
       "      <td>3.170306</td>\n",
       "      <td>2.000000</td>\n",
       "      <td>3.100437</td>\n",
       "      <td>7.866812</td>\n",
       "      <td>0.269343</td>\n",
       "      <td>0.185923</td>\n",
       "    </tr>\n",
       "    <tr>\n",
       "      <th>2001</th>\n",
       "      <td>1.050459</td>\n",
       "      <td>105.259174</td>\n",
       "      <td>347.270642</td>\n",
       "      <td>49.963303</td>\n",
       "      <td>94.162844</td>\n",
       "      <td>19.034404</td>\n",
       "      <td>2.004587</td>\n",
       "      <td>11.961009</td>\n",
       "      <td>47.793578</td>\n",
       "      <td>6.795872</td>\n",
       "      <td>3.038991</td>\n",
       "      <td>33.917431</td>\n",
       "      <td>64.194954</td>\n",
       "      <td>3.089450</td>\n",
       "      <td>4.027523</td>\n",
       "      <td>2.199541</td>\n",
       "      <td>3.059633</td>\n",
       "      <td>7.729358</td>\n",
       "      <td>0.263751</td>\n",
       "      <td>0.170849</td>\n",
       "    </tr>\n",
       "    <tr>\n",
       "      <th>2002</th>\n",
       "      <td>1.063781</td>\n",
       "      <td>105.236902</td>\n",
       "      <td>346.159453</td>\n",
       "      <td>48.157175</td>\n",
       "      <td>92.548975</td>\n",
       "      <td>18.681093</td>\n",
       "      <td>1.990888</td>\n",
       "      <td>11.134396</td>\n",
       "      <td>46.068337</td>\n",
       "      <td>5.956720</td>\n",
       "      <td>2.735763</td>\n",
       "      <td>34.936219</td>\n",
       "      <td>62.801822</td>\n",
       "      <td>3.200456</td>\n",
       "      <td>3.760820</td>\n",
       "      <td>2.154897</td>\n",
       "      <td>3.002278</td>\n",
       "      <td>8.118451</td>\n",
       "      <td>0.260562</td>\n",
       "      <td>0.166529</td>\n",
       "    </tr>\n",
       "    <tr>\n",
       "      <th>2003</th>\n",
       "      <td>1.065022</td>\n",
       "      <td>103.939462</td>\n",
       "      <td>343.286996</td>\n",
       "      <td>48.596413</td>\n",
       "      <td>92.968610</td>\n",
       "      <td>18.730942</td>\n",
       "      <td>1.979821</td>\n",
       "      <td>11.195067</td>\n",
       "      <td>46.547085</td>\n",
       "      <td>5.524664</td>\n",
       "      <td>2.419283</td>\n",
       "      <td>33.558296</td>\n",
       "      <td>60.295964</td>\n",
       "      <td>2.881166</td>\n",
       "      <td>3.905830</td>\n",
       "      <td>2.172646</td>\n",
       "      <td>2.827354</td>\n",
       "      <td>8.058296</td>\n",
       "      <td>0.262658</td>\n",
       "      <td>0.172564</td>\n",
       "    </tr>\n",
       "  </tbody>\n",
       "</table>\n",
       "</div>"
      ],
      "text/plain": [
       "           stint           G          AB          R          H         2B  \\\n",
       "yearID                                                                      \n",
       "1990    1.050398  108.854111  346.023873  44.381963  91.432361  16.230769   \n",
       "1991    1.038760  107.909561  340.113695  44.374677  89.077519  15.922481   \n",
       "1992    1.038860  105.984456  339.790155  42.235751  88.917098  16.093264   \n",
       "1993    1.032746  108.526448  355.221662  49.224181  96.534005  17.594458   \n",
       "1994    1.019663   83.679775  280.238764  41.261236  77.356742  14.929775   \n",
       "1995    1.045685   96.837563  316.690355  46.121827  86.875635  16.416244   \n",
       "1996    1.063107  105.174757  345.798544  51.813107  95.713592  18.097087   \n",
       "1997    1.063830  103.780142  337.080378  48.085106  92.033097  17.900709   \n",
       "1998    1.077098  106.544218  347.410431  49.614512  94.750567  18.628118   \n",
       "1999    1.029748  107.395881  350.844394  53.384439  97.542334  18.988558   \n",
       "2000    1.106987  101.759825  333.397380  51.163755  92.414847  18.338428   \n",
       "2001    1.050459  105.259174  347.270642  49.963303  94.162844  19.034404   \n",
       "2002    1.063781  105.236902  346.159453  48.157175  92.548975  18.681093   \n",
       "2003    1.065022  103.939462  343.286996  48.596413  92.968610  18.730942   \n",
       "\n",
       "              3B         HR        RBI        SB        CS         BB  \\\n",
       "yearID                                                                  \n",
       "1990    2.159151   8.432361  41.978780  8.307692  3.803714  34.371353   \n",
       "1991    2.204134   8.493540  41.865633  7.713178  3.860465  34.007752   \n",
       "1992    2.077720   7.562176  39.994819  8.111399  3.891192  33.556995   \n",
       "1993    2.244332   9.637280  46.342569  7.904282  3.957179  35.672544   \n",
       "1994    1.814607   8.814607  39.042135  6.098315  2.727528  29.230337   \n",
       "1995    1.944162   9.852792  43.626904  7.111675  2.997462  33.324873   \n",
       "1996    1.961165  11.514563  49.089806  7.458738  3.016990  36.446602   \n",
       "1997    1.952719  10.524823  45.650118  7.491726  3.543735  34.926714   \n",
       "1998    1.920635  11.052154  47.385488  7.099773  3.229025  35.070295   \n",
       "1999    2.025172  12.153318  50.700229  7.533181  3.297483  38.514874   \n",
       "2000    1.982533  11.947598  49.050218  6.078603  2.709607  37.386463   \n",
       "2001    2.004587  11.961009  47.793578  6.795872  3.038991  33.917431   \n",
       "2002    1.990888  11.134396  46.068337  5.956720  2.735763  34.936219   \n",
       "2003    1.979821  11.195067  46.547085  5.524664  2.419283  33.558296   \n",
       "\n",
       "               SO       IBB       HBP        SH        SF      GIDP       AVG  \\\n",
       "yearID                                                                          \n",
       "1990    54.941645  3.522546  2.082228  2.633952  3.132626  7.527851  0.257764   \n",
       "1991    55.317829  3.067183  2.217054  2.816537  3.067183  7.276486  0.253041   \n",
       "1992    53.329016  3.305699  2.396373  2.823834  3.168394  7.507772  0.254329   \n",
       "1993    57.151134  3.607053  2.838791  2.710327  3.370277  7.987406  0.264755   \n",
       "1994    47.896067  2.741573  2.278090  1.980337  2.595506  6.247191  0.270519   \n",
       "1995    55.129442  2.690355  2.865482  2.157360  2.743655  7.312183  0.268081   \n",
       "1996    61.555825  3.160194  3.140777  2.126214  3.165049  8.133495  0.267986   \n",
       "1997    61.862884  2.680851  3.219858  2.245863  3.099291  7.598109  0.266699   \n",
       "1998    63.086168  2.371882  3.390023  2.235828  3.036281  7.791383  0.265069   \n",
       "1999    62.155606  2.466819  3.375286  1.983982  3.178490  8.137300  0.271676   \n",
       "2000    59.524017  2.554585  3.170306  2.000000  3.100437  7.866812  0.269343   \n",
       "2001    64.194954  3.089450  4.027523  2.199541  3.059633  7.729358  0.263751   \n",
       "2002    62.801822  3.200456  3.760820  2.154897  3.002278  8.118451  0.260562   \n",
       "2003    60.295964  2.881166  3.905830  2.172646  2.827354  8.058296  0.262658   \n",
       "\n",
       "            SOHR  \n",
       "yearID            \n",
       "1990    0.138238  \n",
       "1991    0.135841  \n",
       "1992    0.126498  \n",
       "1993    0.159790  \n",
       "1994    0.173512  \n",
       "1995    0.165916  \n",
       "1996    0.168783  \n",
       "1997    0.156890  \n",
       "1998    0.159394  \n",
       "1999    0.179532  \n",
       "2000    0.185923  \n",
       "2001    0.170849  \n",
       "2002    0.166529  \n",
       "2003    0.172564  "
      ]
     },
     "execution_count": 53,
     "metadata": {},
     "output_type": "execute_result"
    }
   ],
   "source": [
    "steroids.groupby('yearID').mean()"
   ]
  },
  {
   "cell_type": "code",
   "execution_count": 44,
   "metadata": {},
   "outputs": [
    {
     "data": {
      "text/html": [
       "<div>\n",
       "<style scoped>\n",
       "    .dataframe tbody tr th:only-of-type {\n",
       "        vertical-align: middle;\n",
       "    }\n",
       "\n",
       "    .dataframe tbody tr th {\n",
       "        vertical-align: top;\n",
       "    }\n",
       "\n",
       "    .dataframe thead th {\n",
       "        text-align: right;\n",
       "    }\n",
       "</style>\n",
       "<table border=\"1\" class=\"dataframe\">\n",
       "  <thead>\n",
       "    <tr style=\"text-align: right;\">\n",
       "      <th></th>\n",
       "      <th>stint</th>\n",
       "      <th>G</th>\n",
       "      <th>AB</th>\n",
       "      <th>R</th>\n",
       "      <th>H</th>\n",
       "      <th>2B</th>\n",
       "      <th>3B</th>\n",
       "      <th>HR</th>\n",
       "      <th>RBI</th>\n",
       "      <th>SB</th>\n",
       "      <th>CS</th>\n",
       "      <th>BB</th>\n",
       "      <th>SO</th>\n",
       "      <th>IBB</th>\n",
       "      <th>HBP</th>\n",
       "      <th>SH</th>\n",
       "      <th>SF</th>\n",
       "      <th>GIDP</th>\n",
       "      <th>AVG</th>\n",
       "      <th>SOHR</th>\n",
       "    </tr>\n",
       "    <tr>\n",
       "      <th>yearID</th>\n",
       "      <th></th>\n",
       "      <th></th>\n",
       "      <th></th>\n",
       "      <th></th>\n",
       "      <th></th>\n",
       "      <th></th>\n",
       "      <th></th>\n",
       "      <th></th>\n",
       "      <th></th>\n",
       "      <th></th>\n",
       "      <th></th>\n",
       "      <th></th>\n",
       "      <th></th>\n",
       "      <th></th>\n",
       "      <th></th>\n",
       "      <th></th>\n",
       "      <th></th>\n",
       "      <th></th>\n",
       "      <th></th>\n",
       "      <th></th>\n",
       "    </tr>\n",
       "  </thead>\n",
       "  <tbody>\n",
       "    <tr>\n",
       "      <th>2014</th>\n",
       "      <td>462</td>\n",
       "      <td>45453</td>\n",
       "      <td>150845</td>\n",
       "      <td>18493</td>\n",
       "      <td>38901</td>\n",
       "      <td>7643</td>\n",
       "      <td>799</td>\n",
       "      <td>3988</td>\n",
       "      <td>17605.0</td>\n",
       "      <td>2626.0</td>\n",
       "      <td>981.0</td>\n",
       "      <td>13140</td>\n",
       "      <td>32721.0</td>\n",
       "      <td>951.0</td>\n",
       "      <td>1526.0</td>\n",
       "      <td>694.0</td>\n",
       "      <td>1197.0</td>\n",
       "      <td>3312.0</td>\n",
       "      <td>110.535948</td>\n",
       "      <td>49.155459</td>\n",
       "    </tr>\n",
       "    <tr>\n",
       "      <th>2015</th>\n",
       "      <td>471</td>\n",
       "      <td>45428</td>\n",
       "      <td>150390</td>\n",
       "      <td>19282</td>\n",
       "      <td>39298</td>\n",
       "      <td>7733</td>\n",
       "      <td>888</td>\n",
       "      <td>4680</td>\n",
       "      <td>18506.0</td>\n",
       "      <td>2351.0</td>\n",
       "      <td>994.0</td>\n",
       "      <td>13088</td>\n",
       "      <td>32555.0</td>\n",
       "      <td>906.0</td>\n",
       "      <td>1482.0</td>\n",
       "      <td>614.0</td>\n",
       "      <td>1167.0</td>\n",
       "      <td>3464.0</td>\n",
       "      <td>111.969929</td>\n",
       "      <td>59.466336</td>\n",
       "    </tr>\n",
       "    <tr>\n",
       "      <th>2016</th>\n",
       "      <td>452</td>\n",
       "      <td>45838</td>\n",
       "      <td>151836</td>\n",
       "      <td>20476</td>\n",
       "      <td>39696</td>\n",
       "      <td>7788</td>\n",
       "      <td>821</td>\n",
       "      <td>5412</td>\n",
       "      <td>19613.0</td>\n",
       "      <td>2421.0</td>\n",
       "      <td>937.0</td>\n",
       "      <td>14204</td>\n",
       "      <td>34443.0</td>\n",
       "      <td>911.0</td>\n",
       "      <td>1548.0</td>\n",
       "      <td>495.0</td>\n",
       "      <td>1144.0</td>\n",
       "      <td>3446.0</td>\n",
       "      <td>110.842242</td>\n",
       "      <td>63.141660</td>\n",
       "    </tr>\n",
       "    <tr>\n",
       "      <th>2017</th>\n",
       "      <td>461</td>\n",
       "      <td>45663</td>\n",
       "      <td>151637</td>\n",
       "      <td>21276</td>\n",
       "      <td>39684</td>\n",
       "      <td>7953</td>\n",
       "      <td>738</td>\n",
       "      <td>5873</td>\n",
       "      <td>20379.0</td>\n",
       "      <td>2413.0</td>\n",
       "      <td>877.0</td>\n",
       "      <td>14855</td>\n",
       "      <td>35293.0</td>\n",
       "      <td>935.0</td>\n",
       "      <td>1654.0</td>\n",
       "      <td>387.0</td>\n",
       "      <td>1095.0</td>\n",
       "      <td>3532.0</td>\n",
       "      <td>111.693244</td>\n",
       "      <td>68.381794</td>\n",
       "    </tr>\n",
       "    <tr>\n",
       "      <th>2018</th>\n",
       "      <td>478</td>\n",
       "      <td>46018</td>\n",
       "      <td>151755</td>\n",
       "      <td>20375</td>\n",
       "      <td>38577</td>\n",
       "      <td>7804</td>\n",
       "      <td>802</td>\n",
       "      <td>5343</td>\n",
       "      <td>19466.0</td>\n",
       "      <td>2355.0</td>\n",
       "      <td>912.0</td>\n",
       "      <td>14740</td>\n",
       "      <td>36277.0</td>\n",
       "      <td>913.0</td>\n",
       "      <td>1812.0</td>\n",
       "      <td>376.0</td>\n",
       "      <td>1152.0</td>\n",
       "      <td>3190.0</td>\n",
       "      <td>111.349688</td>\n",
       "      <td>62.499037</td>\n",
       "    </tr>\n",
       "  </tbody>\n",
       "</table>\n",
       "</div>"
      ],
      "text/plain": [
       "        stint      G      AB      R      H    2B   3B    HR      RBI      SB  \\\n",
       "yearID                                                                         \n",
       "2014      462  45453  150845  18493  38901  7643  799  3988  17605.0  2626.0   \n",
       "2015      471  45428  150390  19282  39298  7733  888  4680  18506.0  2351.0   \n",
       "2016      452  45838  151836  20476  39696  7788  821  5412  19613.0  2421.0   \n",
       "2017      461  45663  151637  21276  39684  7953  738  5873  20379.0  2413.0   \n",
       "2018      478  46018  151755  20375  38577  7804  802  5343  19466.0  2355.0   \n",
       "\n",
       "           CS     BB       SO    IBB     HBP     SH      SF    GIDP  \\\n",
       "yearID                                                                \n",
       "2014    981.0  13140  32721.0  951.0  1526.0  694.0  1197.0  3312.0   \n",
       "2015    994.0  13088  32555.0  906.0  1482.0  614.0  1167.0  3464.0   \n",
       "2016    937.0  14204  34443.0  911.0  1548.0  495.0  1144.0  3446.0   \n",
       "2017    877.0  14855  35293.0  935.0  1654.0  387.0  1095.0  3532.0   \n",
       "2018    912.0  14740  36277.0  913.0  1812.0  376.0  1152.0  3190.0   \n",
       "\n",
       "               AVG       SOHR  \n",
       "yearID                         \n",
       "2014    110.535948  49.155459  \n",
       "2015    111.969929  59.466336  \n",
       "2016    110.842242  63.141660  \n",
       "2017    111.693244  68.381794  \n",
       "2018    111.349688  62.499037  "
      ]
     },
     "execution_count": 44,
     "metadata": {},
     "output_type": "execute_result"
    }
   ],
   "source": [
    "juiced.groupby('yearID').sum()"
   ]
  },
  {
   "cell_type": "code",
   "execution_count": 45,
   "metadata": {},
   "outputs": [],
   "source": [
    "df_2001 = steroids[steroids['yearID'] == 2001]"
   ]
  },
  {
   "cell_type": "code",
   "execution_count": 46,
   "metadata": {},
   "outputs": [],
   "source": [
    "df_2017 = juiced[juiced['yearID'] == 2017]"
   ]
  },
  {
   "cell_type": "code",
   "execution_count": 47,
   "metadata": {},
   "outputs": [
    {
     "data": {
      "text/plain": [
       "(1.6466, -1.6466)"
      ]
     },
     "execution_count": 47,
     "metadata": {},
     "output_type": "execute_result"
    }
   ],
   "source": [
    "#critical value \n",
    "deg = len(df_2001) + len(df_2017) - 2\n",
    "crit_val = np.round(stats.t.ppf(1-0.05, df=deg), 5)\n",
    "crit_val, -crit_val"
   ]
  },
  {
   "cell_type": "code",
   "execution_count": 48,
   "metadata": {},
   "outputs": [
    {
     "data": {
      "text/plain": [
       "(-1.9730623998376982, 0.04880390532524338)"
      ]
     },
     "execution_count": 48,
     "metadata": {},
     "output_type": "execute_result"
    }
   ],
   "source": [
    "colname = 'HR'\n",
    "t_stat_4, p_value_4 = stats.ttest_ind(df_2001[colname], df_2017[colname])\n",
    "t_stat_4, p_value_4"
   ]
  },
  {
   "cell_type": "code",
   "execution_count": 49,
   "metadata": {},
   "outputs": [],
   "source": [
    "#if p-value is lower than alpha(0.05) reject the null hypothesis \n",
    "\n",
    "\n",
    "\n",
    "\n",
    "# if pval < 0.05:    # alpha value is 0.05 or 5%\n",
    "#     print(\" we are rejecting null hypothesis\")\n",
    "# else:\n",
    "#     print(\"we are accepting null hypothesis\")"
   ]
  },
  {
   "cell_type": "code",
   "execution_count": 56,
   "metadata": {},
   "outputs": [],
   "source": [
    "from statsmodels.stats import weightstats as stests\n",
    "\n",
    "\n",
    "#Z-Test\n",
    "\n",
    "# ztest ,pval = stests.ztest(df['bp_before'], x2=None, value=156)\n",
    "# print(float(pval))\n",
    "\n",
    "\n",
    "\n",
    "# ztest ,pval1 = stests.ztest(df['bp_before'], x2=df['bp_after'], value=0,alternative='two-sided')\n",
    "# print(float(pval1))\n",
    "# if pval<0.05:\n",
    "#     print(\"reject null hypothesis\")\n",
    "# else:\n",
    "#     print(\"accept null hypothesis\")\n",
    "\n",
    "\n",
    "\n",
    "\n",
    "\n",
    "\n",
    "\n",
    "#F-Test (ANOVA) One-Way\n",
    "\n",
    "# df_anova = pd.read_csv('PlantGrowth.csv')\n",
    "# df_anova = df_anova[['weight','group']]\n",
    "# grps = pd.unique(df_anova.group.values)\n",
    "# d_data = {grp:df_anova['weight'][df_anova.group == grp] for grp in grps}\n",
    " \n",
    "# F, p = stats.f_oneway(d_data['ctrl'], d_data['trt1'], d_data['trt2'])\n",
    "# print(\"p-value for significance is: \", p)\n",
    "# if p<0.05:\n",
    "#     print(\"reject null hypothesis\")\n",
    "# else:\n",
    "#     print(\"accept null hypothesis\")\n",
    "\n",
    "\n",
    "\n",
    "\n",
    "\n",
    "\n",
    "#F-Test (ANOVA) Two-Way\n",
    "\n",
    "# import statsmodels.api as sm\n",
    "# from statsmodels.formula.api import ols\n",
    "\n",
    "# df_anova2 = pd.read_csv(\"https://raw.githubusercontent.com/Opensourcefordatascience/Data-sets/master/crop_yield.csv\")\n",
    "# model = ols('Yield ~ C(Fert)*C(Water)', df_anova2).fit()\n",
    "\n",
    "# print(f\"Overall model F({model.df_model: .0f},{model.df_resid: .0f}) = {model.fvalue: .3f}, \n",
    "#                                                                            p = {model.f_pvalue: .4f}\")\n",
    "\n",
    "# res = sm.stats.anova_lm(model, typ= 2)\n",
    "# res\n",
    "\n",
    "\n",
    "\n",
    "\n",
    "\n",
    "\n",
    "\n",
    "\n"
   ]
  },
  {
   "cell_type": "code",
   "execution_count": 58,
   "metadata": {},
   "outputs": [
    {
     "data": {
      "text/plain": [
       "(0.7506073889393456, 0.0)"
      ]
     },
     "execution_count": 58,
     "metadata": {},
     "output_type": "execute_result"
    }
   ],
   "source": [
    "from scipy.stats import pearsonr\n",
    "data1, data2 = juiced['HR'], juiced['SO']\n",
    "corr, p = pearsonr(data1, data2)\n",
    "corr, p"
   ]
  },
  {
   "cell_type": "code",
   "execution_count": 63,
   "metadata": {},
   "outputs": [
    {
     "data": {
      "text/plain": [
       "(5741079.5, 1.0989564502425996e-12)"
      ]
     },
     "execution_count": 63,
     "metadata": {},
     "output_type": "execute_result"
    }
   ],
   "source": [
    "from scipy.stats import mannwhitneyu\n",
    "data1, data2 = juiced['HR'], steroids['HR']\n",
    "stat, p = mannwhitneyu(data1, data2)\n",
    "stat, p"
   ]
  },
  {
   "cell_type": "code",
   "execution_count": 66,
   "metadata": {},
   "outputs": [
    {
     "data": {
      "text/plain": [
       "(188.5736507645886, 1.9689602947076818e-42)"
      ]
     },
     "execution_count": 66,
     "metadata": {},
     "output_type": "execute_result"
    }
   ],
   "source": [
    "from scipy.stats import f_oneway\n",
    "data1, data2 = juiced['AVG'], steroids['AVG']\n",
    "stat, p = f_oneway(data1, data2)\n",
    "stat, p"
   ]
  },
  {
   "cell_type": "code",
   "execution_count": null,
   "metadata": {},
   "outputs": [],
   "source": []
  },
  {
   "cell_type": "code",
   "execution_count": null,
   "metadata": {},
   "outputs": [],
   "source": []
  },
  {
   "cell_type": "code",
   "execution_count": null,
   "metadata": {},
   "outputs": [],
   "source": []
  },
  {
   "cell_type": "code",
   "execution_count": null,
   "metadata": {},
   "outputs": [],
   "source": []
  },
  {
   "cell_type": "code",
   "execution_count": null,
   "metadata": {},
   "outputs": [],
   "source": []
  },
  {
   "cell_type": "code",
   "execution_count": null,
   "metadata": {},
   "outputs": [],
   "source": []
  },
  {
   "cell_type": "code",
   "execution_count": null,
   "metadata": {},
   "outputs": [],
   "source": []
  },
  {
   "cell_type": "code",
   "execution_count": null,
   "metadata": {},
   "outputs": [],
   "source": []
  },
  {
   "cell_type": "code",
   "execution_count": null,
   "metadata": {},
   "outputs": [],
   "source": []
  },
  {
   "cell_type": "code",
   "execution_count": null,
   "metadata": {},
   "outputs": [],
   "source": []
  },
  {
   "cell_type": "code",
   "execution_count": null,
   "metadata": {},
   "outputs": [],
   "source": []
  },
  {
   "cell_type": "code",
   "execution_count": null,
   "metadata": {},
   "outputs": [],
   "source": []
  },
  {
   "cell_type": "code",
   "execution_count": null,
   "metadata": {},
   "outputs": [],
   "source": []
  },
  {
   "cell_type": "code",
   "execution_count": null,
   "metadata": {},
   "outputs": [],
   "source": []
  }
 ],
 "metadata": {
  "kernelspec": {
   "display_name": "Python 3",
   "language": "python",
   "name": "python3"
  },
  "language_info": {
   "codemirror_mode": {
    "name": "ipython",
    "version": 3
   },
   "file_extension": ".py",
   "mimetype": "text/x-python",
   "name": "python",
   "nbconvert_exporter": "python",
   "pygments_lexer": "ipython3",
   "version": "3.6.9"
  }
 },
 "nbformat": 4,
 "nbformat_minor": 2
}
