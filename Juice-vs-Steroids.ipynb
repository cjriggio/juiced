{
 "cells": [
  {
   "cell_type": "code",
   "execution_count": 1,
   "metadata": {},
   "outputs": [],
   "source": [
    "import pandas as pd\n",
    "import numpy as np\n",
    "from scipy import stats\n",
    "\n",
    "import seaborn as sns\n",
    "sns.set_style(\"darkgrid\")\n",
    "\n",
    "import matplotlib.pyplot as plt\n",
    "%matplotlib inline "
   ]
  },
  {
   "cell_type": "code",
   "execution_count": 3,
   "metadata": {},
   "outputs": [],
   "source": [
    "# playerID       Player ID code\n",
    "# yearID         Year\n",
    "# stint          player's stint (order of appearances within a season)\n",
    "# teamID         Team\n",
    "# lgID           League\n",
    "# G              Games\n",
    "# AB             At Bats\n",
    "# R              Runs\n",
    "# H              Hits\n",
    "# 2B             Doubles\n",
    "# 3B             Triples\n",
    "# HR             Homeruns\n",
    "# RBI            Runs Batted In\n",
    "# SB             Stolen Bases\n",
    "# CS             Caught Stealing\n",
    "# BB             Base on Balls\n",
    "# SO             Strikeouts\n",
    "# IBB            Intentional walks\n",
    "# HBP            Hit by pitch\n",
    "# SH             Sacrifice hits\n",
    "# SF             Sacrifice flies\n",
    "# GIDP           Grounded into double plays"
   ]
  },
  {
   "cell_type": "code",
   "execution_count": 4,
   "metadata": {},
   "outputs": [],
   "source": [
    "# pd.set_option('display.max_columns', 50)\n",
    "# pd.set_option('display.max_rows', 50)"
   ]
  },
  {
   "cell_type": "code",
   "execution_count": 5,
   "metadata": {},
   "outputs": [],
   "source": [
    "juiced = pd.read_csv(\"juiced.csv\")\n",
    "steroids = pd.read_csv(\"steroids.csv\")"
   ]
  },
  {
   "cell_type": "code",
   "execution_count": 6,
   "metadata": {},
   "outputs": [],
   "source": [
    "def remove_unnamed(df):\n",
    "    df.drop(['Unnamed: 0'], axis=1, inplace=True)\n",
    "    return df"
   ]
  },
  {
   "cell_type": "code",
   "execution_count": 7,
   "metadata": {},
   "outputs": [
    {
     "data": {
      "text/html": [
       "<div>\n",
       "<style scoped>\n",
       "    .dataframe tbody tr th:only-of-type {\n",
       "        vertical-align: middle;\n",
       "    }\n",
       "\n",
       "    .dataframe tbody tr th {\n",
       "        vertical-align: top;\n",
       "    }\n",
       "\n",
       "    .dataframe thead th {\n",
       "        text-align: right;\n",
       "    }\n",
       "</style>\n",
       "<table border=\"1\" class=\"dataframe\">\n",
       "  <thead>\n",
       "    <tr style=\"text-align: right;\">\n",
       "      <th></th>\n",
       "      <th>playerID</th>\n",
       "      <th>yearID</th>\n",
       "      <th>stint</th>\n",
       "      <th>teamID</th>\n",
       "      <th>lgID</th>\n",
       "      <th>G</th>\n",
       "      <th>AB</th>\n",
       "      <th>R</th>\n",
       "      <th>H</th>\n",
       "      <th>2B</th>\n",
       "      <th>...</th>\n",
       "      <th>RBI</th>\n",
       "      <th>SB</th>\n",
       "      <th>CS</th>\n",
       "      <th>BB</th>\n",
       "      <th>SO</th>\n",
       "      <th>IBB</th>\n",
       "      <th>HBP</th>\n",
       "      <th>SH</th>\n",
       "      <th>SF</th>\n",
       "      <th>GIDP</th>\n",
       "    </tr>\n",
       "  </thead>\n",
       "  <tbody>\n",
       "    <tr>\n",
       "      <th>0</th>\n",
       "      <td>abnersh01</td>\n",
       "      <td>1990</td>\n",
       "      <td>1</td>\n",
       "      <td>SDN</td>\n",
       "      <td>NL</td>\n",
       "      <td>91</td>\n",
       "      <td>184</td>\n",
       "      <td>17</td>\n",
       "      <td>45</td>\n",
       "      <td>9</td>\n",
       "      <td>...</td>\n",
       "      <td>15.0</td>\n",
       "      <td>2.0</td>\n",
       "      <td>3.0</td>\n",
       "      <td>9</td>\n",
       "      <td>28.0</td>\n",
       "      <td>1.0</td>\n",
       "      <td>2.0</td>\n",
       "      <td>2.0</td>\n",
       "      <td>1.0</td>\n",
       "      <td>3.0</td>\n",
       "    </tr>\n",
       "    <tr>\n",
       "      <th>1</th>\n",
       "      <td>aldremi01</td>\n",
       "      <td>1990</td>\n",
       "      <td>1</td>\n",
       "      <td>MON</td>\n",
       "      <td>NL</td>\n",
       "      <td>96</td>\n",
       "      <td>161</td>\n",
       "      <td>22</td>\n",
       "      <td>39</td>\n",
       "      <td>7</td>\n",
       "      <td>...</td>\n",
       "      <td>18.0</td>\n",
       "      <td>1.0</td>\n",
       "      <td>2.0</td>\n",
       "      <td>37</td>\n",
       "      <td>31.0</td>\n",
       "      <td>2.0</td>\n",
       "      <td>1.0</td>\n",
       "      <td>0.0</td>\n",
       "      <td>1.0</td>\n",
       "      <td>2.0</td>\n",
       "    </tr>\n",
       "    <tr>\n",
       "      <th>2</th>\n",
       "      <td>alomaro01</td>\n",
       "      <td>1990</td>\n",
       "      <td>1</td>\n",
       "      <td>SDN</td>\n",
       "      <td>NL</td>\n",
       "      <td>147</td>\n",
       "      <td>586</td>\n",
       "      <td>80</td>\n",
       "      <td>168</td>\n",
       "      <td>27</td>\n",
       "      <td>...</td>\n",
       "      <td>60.0</td>\n",
       "      <td>24.0</td>\n",
       "      <td>7.0</td>\n",
       "      <td>48</td>\n",
       "      <td>72.0</td>\n",
       "      <td>1.0</td>\n",
       "      <td>2.0</td>\n",
       "      <td>5.0</td>\n",
       "      <td>5.0</td>\n",
       "      <td>16.0</td>\n",
       "    </tr>\n",
       "    <tr>\n",
       "      <th>3</th>\n",
       "      <td>alomasa02</td>\n",
       "      <td>1990</td>\n",
       "      <td>1</td>\n",
       "      <td>CLE</td>\n",
       "      <td>AL</td>\n",
       "      <td>132</td>\n",
       "      <td>445</td>\n",
       "      <td>60</td>\n",
       "      <td>129</td>\n",
       "      <td>26</td>\n",
       "      <td>...</td>\n",
       "      <td>66.0</td>\n",
       "      <td>4.0</td>\n",
       "      <td>1.0</td>\n",
       "      <td>25</td>\n",
       "      <td>46.0</td>\n",
       "      <td>2.0</td>\n",
       "      <td>2.0</td>\n",
       "      <td>5.0</td>\n",
       "      <td>6.0</td>\n",
       "      <td>10.0</td>\n",
       "    </tr>\n",
       "    <tr>\n",
       "      <th>4</th>\n",
       "      <td>anderbr01</td>\n",
       "      <td>1990</td>\n",
       "      <td>1</td>\n",
       "      <td>BAL</td>\n",
       "      <td>AL</td>\n",
       "      <td>89</td>\n",
       "      <td>234</td>\n",
       "      <td>24</td>\n",
       "      <td>54</td>\n",
       "      <td>5</td>\n",
       "      <td>...</td>\n",
       "      <td>24.0</td>\n",
       "      <td>15.0</td>\n",
       "      <td>2.0</td>\n",
       "      <td>31</td>\n",
       "      <td>46.0</td>\n",
       "      <td>2.0</td>\n",
       "      <td>5.0</td>\n",
       "      <td>4.0</td>\n",
       "      <td>5.0</td>\n",
       "      <td>4.0</td>\n",
       "    </tr>\n",
       "  </tbody>\n",
       "</table>\n",
       "<p>5 rows × 22 columns</p>\n",
       "</div>"
      ],
      "text/plain": [
       "    playerID  yearID  stint teamID lgID    G   AB   R    H  2B  ...   RBI  \\\n",
       "0  abnersh01    1990      1    SDN   NL   91  184  17   45   9  ...  15.0   \n",
       "1  aldremi01    1990      1    MON   NL   96  161  22   39   7  ...  18.0   \n",
       "2  alomaro01    1990      1    SDN   NL  147  586  80  168  27  ...  60.0   \n",
       "3  alomasa02    1990      1    CLE   AL  132  445  60  129  26  ...  66.0   \n",
       "4  anderbr01    1990      1    BAL   AL   89  234  24   54   5  ...  24.0   \n",
       "\n",
       "     SB   CS  BB    SO  IBB  HBP   SH   SF  GIDP  \n",
       "0   2.0  3.0   9  28.0  1.0  2.0  2.0  1.0   3.0  \n",
       "1   1.0  2.0  37  31.0  2.0  1.0  0.0  1.0   2.0  \n",
       "2  24.0  7.0  48  72.0  1.0  2.0  5.0  5.0  16.0  \n",
       "3   4.0  1.0  25  46.0  2.0  2.0  5.0  6.0  10.0  \n",
       "4  15.0  2.0  31  46.0  2.0  5.0  4.0  5.0   4.0  \n",
       "\n",
       "[5 rows x 22 columns]"
      ]
     },
     "execution_count": 7,
     "metadata": {},
     "output_type": "execute_result"
    }
   ],
   "source": [
    "steroids = remove_unnamed(steroids)\n",
    "steroids.head()"
   ]
  },
  {
   "cell_type": "code",
   "execution_count": 8,
   "metadata": {},
   "outputs": [
    {
     "data": {
      "text/html": [
       "<div>\n",
       "<style scoped>\n",
       "    .dataframe tbody tr th:only-of-type {\n",
       "        vertical-align: middle;\n",
       "    }\n",
       "\n",
       "    .dataframe tbody tr th {\n",
       "        vertical-align: top;\n",
       "    }\n",
       "\n",
       "    .dataframe thead th {\n",
       "        text-align: right;\n",
       "    }\n",
       "</style>\n",
       "<table border=\"1\" class=\"dataframe\">\n",
       "  <thead>\n",
       "    <tr style=\"text-align: right;\">\n",
       "      <th></th>\n",
       "      <th>playerID</th>\n",
       "      <th>yearID</th>\n",
       "      <th>stint</th>\n",
       "      <th>teamID</th>\n",
       "      <th>lgID</th>\n",
       "      <th>G</th>\n",
       "      <th>AB</th>\n",
       "      <th>R</th>\n",
       "      <th>H</th>\n",
       "      <th>2B</th>\n",
       "      <th>...</th>\n",
       "      <th>RBI</th>\n",
       "      <th>SB</th>\n",
       "      <th>CS</th>\n",
       "      <th>BB</th>\n",
       "      <th>SO</th>\n",
       "      <th>IBB</th>\n",
       "      <th>HBP</th>\n",
       "      <th>SH</th>\n",
       "      <th>SF</th>\n",
       "      <th>GIDP</th>\n",
       "    </tr>\n",
       "  </thead>\n",
       "  <tbody>\n",
       "    <tr>\n",
       "      <th>0</th>\n",
       "      <td>abreubo01</td>\n",
       "      <td>2014</td>\n",
       "      <td>1</td>\n",
       "      <td>NYN</td>\n",
       "      <td>NL</td>\n",
       "      <td>78</td>\n",
       "      <td>133</td>\n",
       "      <td>12</td>\n",
       "      <td>33</td>\n",
       "      <td>9</td>\n",
       "      <td>...</td>\n",
       "      <td>14.0</td>\n",
       "      <td>1.0</td>\n",
       "      <td>0.0</td>\n",
       "      <td>20</td>\n",
       "      <td>21.0</td>\n",
       "      <td>0.0</td>\n",
       "      <td>0.0</td>\n",
       "      <td>0.0</td>\n",
       "      <td>2.0</td>\n",
       "      <td>3.0</td>\n",
       "    </tr>\n",
       "    <tr>\n",
       "      <th>1</th>\n",
       "      <td>abreujo02</td>\n",
       "      <td>2014</td>\n",
       "      <td>1</td>\n",
       "      <td>CHA</td>\n",
       "      <td>AL</td>\n",
       "      <td>145</td>\n",
       "      <td>556</td>\n",
       "      <td>80</td>\n",
       "      <td>176</td>\n",
       "      <td>35</td>\n",
       "      <td>...</td>\n",
       "      <td>107.0</td>\n",
       "      <td>3.0</td>\n",
       "      <td>1.0</td>\n",
       "      <td>51</td>\n",
       "      <td>131.0</td>\n",
       "      <td>15.0</td>\n",
       "      <td>11.0</td>\n",
       "      <td>0.0</td>\n",
       "      <td>4.0</td>\n",
       "      <td>14.0</td>\n",
       "    </tr>\n",
       "    <tr>\n",
       "      <th>2</th>\n",
       "      <td>ackledu01</td>\n",
       "      <td>2014</td>\n",
       "      <td>1</td>\n",
       "      <td>SEA</td>\n",
       "      <td>AL</td>\n",
       "      <td>143</td>\n",
       "      <td>502</td>\n",
       "      <td>64</td>\n",
       "      <td>123</td>\n",
       "      <td>27</td>\n",
       "      <td>...</td>\n",
       "      <td>65.0</td>\n",
       "      <td>8.0</td>\n",
       "      <td>4.0</td>\n",
       "      <td>32</td>\n",
       "      <td>90.0</td>\n",
       "      <td>1.0</td>\n",
       "      <td>3.0</td>\n",
       "      <td>3.0</td>\n",
       "      <td>2.0</td>\n",
       "      <td>10.0</td>\n",
       "    </tr>\n",
       "    <tr>\n",
       "      <th>3</th>\n",
       "      <td>adamsma01</td>\n",
       "      <td>2014</td>\n",
       "      <td>1</td>\n",
       "      <td>SLN</td>\n",
       "      <td>NL</td>\n",
       "      <td>142</td>\n",
       "      <td>527</td>\n",
       "      <td>55</td>\n",
       "      <td>152</td>\n",
       "      <td>34</td>\n",
       "      <td>...</td>\n",
       "      <td>68.0</td>\n",
       "      <td>3.0</td>\n",
       "      <td>2.0</td>\n",
       "      <td>26</td>\n",
       "      <td>114.0</td>\n",
       "      <td>5.0</td>\n",
       "      <td>3.0</td>\n",
       "      <td>0.0</td>\n",
       "      <td>7.0</td>\n",
       "      <td>9.0</td>\n",
       "    </tr>\n",
       "    <tr>\n",
       "      <th>4</th>\n",
       "      <td>adducji02</td>\n",
       "      <td>2014</td>\n",
       "      <td>1</td>\n",
       "      <td>TEX</td>\n",
       "      <td>AL</td>\n",
       "      <td>44</td>\n",
       "      <td>101</td>\n",
       "      <td>13</td>\n",
       "      <td>17</td>\n",
       "      <td>3</td>\n",
       "      <td>...</td>\n",
       "      <td>8.0</td>\n",
       "      <td>3.0</td>\n",
       "      <td>1.0</td>\n",
       "      <td>10</td>\n",
       "      <td>27.0</td>\n",
       "      <td>0.0</td>\n",
       "      <td>0.0</td>\n",
       "      <td>1.0</td>\n",
       "      <td>2.0</td>\n",
       "      <td>2.0</td>\n",
       "    </tr>\n",
       "  </tbody>\n",
       "</table>\n",
       "<p>5 rows × 22 columns</p>\n",
       "</div>"
      ],
      "text/plain": [
       "    playerID  yearID  stint teamID lgID    G   AB   R    H  2B  ...    RBI  \\\n",
       "0  abreubo01    2014      1    NYN   NL   78  133  12   33   9  ...   14.0   \n",
       "1  abreujo02    2014      1    CHA   AL  145  556  80  176  35  ...  107.0   \n",
       "2  ackledu01    2014      1    SEA   AL  143  502  64  123  27  ...   65.0   \n",
       "3  adamsma01    2014      1    SLN   NL  142  527  55  152  34  ...   68.0   \n",
       "4  adducji02    2014      1    TEX   AL   44  101  13   17   3  ...    8.0   \n",
       "\n",
       "    SB   CS  BB     SO   IBB   HBP   SH   SF  GIDP  \n",
       "0  1.0  0.0  20   21.0   0.0   0.0  0.0  2.0   3.0  \n",
       "1  3.0  1.0  51  131.0  15.0  11.0  0.0  4.0  14.0  \n",
       "2  8.0  4.0  32   90.0   1.0   3.0  3.0  2.0  10.0  \n",
       "3  3.0  2.0  26  114.0   5.0   3.0  0.0  7.0   9.0  \n",
       "4  3.0  1.0  10   27.0   0.0   0.0  1.0  2.0   2.0  \n",
       "\n",
       "[5 rows x 22 columns]"
      ]
     },
     "execution_count": 8,
     "metadata": {},
     "output_type": "execute_result"
    }
   ],
   "source": [
    "juiced = remove_unnamed(juiced)\n",
    "juiced.head()"
   ]
  },
  {
   "cell_type": "code",
   "execution_count": 9,
   "metadata": {},
   "outputs": [
    {
     "name": "stdout",
     "output_type": "stream",
     "text": [
      "Steroid Mean: 10.395577820003455 \n",
      "Steroid StDev: 11.461712732215677 \n",
      "Juice Mean: 10.122573994956918 \n",
      "Juice StDev: 9.532654065338109\n"
     ]
    }
   ],
   "source": [
    "print(\"Steroid Mean: {} \\nSteroid StDev: {} \\nJuice Mean: {} \\nJuice StDev: {}\".format(steroids.HR.mean(), \n",
    "                                                                                     juiced.HR.mean(),\n",
    "                                                                                     steroids.HR.std(), \n",
    "                                                                                     juiced.HR.std()))"
   ]
  },
  {
   "cell_type": "code",
   "execution_count": 10,
   "metadata": {},
   "outputs": [],
   "source": [
    "t_stat, p_value = stats.ttest_ind(steroids['H'], juiced['H'], equal_var=False)"
   ]
  },
  {
   "cell_type": "code",
   "execution_count": 11,
   "metadata": {},
   "outputs": [
    {
     "data": {
      "text/plain": [
       "(2.4493457342387512, 0.014352816461711874)"
      ]
     },
     "execution_count": 11,
     "metadata": {},
     "output_type": "execute_result"
    }
   ],
   "source": [
    "t_stat, p_value"
   ]
  },
  {
   "cell_type": "code",
   "execution_count": 12,
   "metadata": {},
   "outputs": [],
   "source": [
    "def t_stat_p_val_1(col_name):\n",
    "    t_stat, p_value = stats.ttest_ind(steroids[col_name], juiced[col_name], equal_var=False)\n",
    "    print('T-Stat: {} \\nP-Value: {}'.format(t_stat, p_value))"
   ]
  },
  {
   "cell_type": "code",
   "execution_count": 13,
   "metadata": {},
   "outputs": [],
   "source": [
    "def t_stat_p_val_2(col_name):\n",
    "    t_stat, p_value = stats.ttest_ind(juiced[col_name], steroids[col_name], equal_var=False)\n",
    "    print('T-Stat: {} \\nP-Value: {}'.format(t_stat, p_value))"
   ]
  },
  {
   "cell_type": "code",
   "execution_count": 16,
   "metadata": {},
   "outputs": [
    {
     "name": "stdout",
     "output_type": "stream",
     "text": [
      "T-Stat: 2.4493457342387512 \n",
      "P-Value: 0.014352816461711874\n"
     ]
    }
   ],
   "source": [
    "t_stat_p_val_1('H') #hits"
   ]
  },
  {
   "cell_type": "code",
   "execution_count": 17,
   "metadata": {},
   "outputs": [
    {
     "name": "stdout",
     "output_type": "stream",
     "text": [
      "T-Stat: -0.023326832269210052 \n",
      "P-Value: 0.9813907017728931\n"
     ]
    }
   ],
   "source": [
    "t_stat_p_val_1('2B') #doubles"
   ]
  },
  {
   "cell_type": "code",
   "execution_count": 18,
   "metadata": {},
   "outputs": [
    {
     "name": "stdout",
     "output_type": "stream",
     "text": [
      "T-Stat: -4.393886471217105 \n",
      "P-Value: 1.1407979205065639e-05\n"
     ]
    }
   ],
   "source": [
    "t_stat_p_val_1('HR') #home runs "
   ]
  },
  {
   "cell_type": "code",
   "execution_count": 19,
   "metadata": {},
   "outputs": [
    {
     "name": "stdout",
     "output_type": "stream",
     "text": [
      "T-Stat: -20.137596547351038 \n",
      "P-Value: 2.4730525003046932e-85\n"
     ]
    }
   ],
   "source": [
    "t_stat_p_val_1('SO') #strike outs "
   ]
  },
  {
   "cell_type": "code",
   "execution_count": 20,
   "metadata": {},
   "outputs": [
    {
     "data": {
      "text/plain": [
       "1.64504"
      ]
     },
     "execution_count": 20,
     "metadata": {},
     "output_type": "execute_result"
    }
   ],
   "source": [
    "#critical value \n",
    "deg = len(steroids) + len(juiced) - 2\n",
    "crit_val = np.round(stats.t.ppf(1-0.05, df=deg), 5)\n",
    "crit_val"
   ]
  },
  {
   "cell_type": "markdown",
   "metadata": {},
   "source": [
    "## *Ho*: Steroid Era players were better hitters\n",
    "\n",
    "## *Ha*: Steroid Era players were not better hitters  "
   ]
  },
  {
   "cell_type": "code",
   "execution_count": 21,
   "metadata": {},
   "outputs": [
    {
     "name": "stdout",
     "output_type": "stream",
     "text": [
      "Steroid Mean: 91.83036793919503 \n",
      "Steroid StDev: 88.87902129587675 \n",
      "Juice Mean: 49.55414799492732 \n",
      "Juice StDev: 47.62552578782344\n"
     ]
    }
   ],
   "source": [
    "colname = 'H'\n",
    "print(\"Steroid Mean: {} \\nSteroid StDev: {} \\nJuice Mean: {} \\nJuice StDev: {}\".format(steroids[colname].mean(), \n",
    "                                                                                     juiced[colname].mean(),\n",
    "                                                                                     steroids[colname].std(), \n",
    "                                                                                     juiced[colname].std()))"
   ]
  },
  {
   "cell_type": "code",
   "execution_count": 22,
   "metadata": {},
   "outputs": [],
   "source": [
    "#Hit to At Bat ratio (batting avg)\n",
    "juiced['AVG'] = juiced['H'] / juiced['AB']\n",
    "steroids['AVG'] = steroids['H'] / steroids['AB'] "
   ]
  },
  {
   "cell_type": "code",
   "execution_count": 23,
   "metadata": {},
   "outputs": [
    {
     "data": {
      "image/png": "[encoded data removed]",
      "text/plain": [
       "<Figure size 792x432 with 1 Axes>"
      ]
     },
     "metadata": {
      "needs_background": "light"
     },
     "output_type": "display_data"
    }
   ],
   "source": [
    "plt.figure(figsize=(11,6))\n",
    "sns.distplot(juiced['AVG'], bins=30,kde_kws={\"lw\": 2, \"label\": \"Juiced\"})\n",
    "sns.distplot(steroids['AVG'], bins=30,kde_kws={\"lw\": 2, \"label\": \"Steroids\"})\n",
    "plt.title(\"Batting Average\", fontsize=14);"
   ]
  },
  {
   "cell_type": "code",
   "execution_count": 24,
   "metadata": {},
   "outputs": [
    {
     "name": "stdout",
     "output_type": "stream",
     "text": [
      "T-Stat: 13.70934931371592 \n",
      "P-Value: 7.8742099225483e-42\n"
     ]
    }
   ],
   "source": [
    "t_stat_p_val_1('AVG')"
   ]
  },
  {
   "cell_type": "code",
   "execution_count": 25,
   "metadata": {},
   "outputs": [
    {
     "data": {
      "text/plain": [
       "(2.4493457342387512, 0.014352816461711874)"
      ]
     },
     "execution_count": 25,
     "metadata": {},
     "output_type": "execute_result"
    }
   ],
   "source": [
    "colname = 'H'\n",
    "t_stat, p_value = stats.ttest_ind(steroids[colname], juiced[colname], equal_var=False)\n",
    "t_stat, p_value"
   ]
  },
  {
   "cell_type": "code",
   "execution_count": 26,
   "metadata": {},
   "outputs": [
    {
     "data": {
      "image/png": "[encoded data removed]",
      "text/plain": [
       "<Figure size 864x576 with 1 Axes>"
      ]
     },
     "metadata": {
      "needs_background": "light"
     },
     "output_type": "display_data"
    }
   ],
   "source": [
    "xs = np.linspace(-5, 5, 200)\n",
    "ys = stats.t.pdf(xs, deg, 0, 1)\n",
    "\n",
    "fig = plt.figure(figsize=(12,8))\n",
    "\n",
    "ax = fig.gca()\n",
    "\n",
    "ax.plot(xs, ys, linewidth=3, color='darkblue')\n",
    "\n",
    "ax.axvline(t_stat, color='red', linestyle='--', lw=3,label='t-stat')\n",
    "\n",
    "ax.axvline(crit_val,color='green',linestyle='--',lw=3,label='critical t-value')\n",
    "\n",
    "ax.fill_betweenx(ys,xs,crit_val,where = xs > crit_val, color = 'plum')\n",
    "plt.title('T-Stat and Critical T-Value', fontsize=14)\n",
    "ax.legend()\n",
    "plt.show()"
   ]
  },
  {
   "cell_type": "markdown",
   "metadata": {},
   "source": [
    "## *Ho*: National League players have better batting averages\n",
    "\n",
    "## *Ha*: American League players have better batting averages"
   ]
  },
  {
   "cell_type": "code",
   "execution_count": 30,
   "metadata": {},
   "outputs": [],
   "source": [
    "NLSter = steroids[steroids['lgID']=='NL']\n",
    "ALSter = steroids[steroids['lgID']=='AL']\n",
    "\n",
    "NLJuice = juiced[juiced['lgID']=='NL']\n",
    "ALJuice = juiced[juiced['lgID']=='AL']"
   ]
  },
  {
   "cell_type": "code",
   "execution_count": 31,
   "metadata": {},
   "outputs": [],
   "source": [
    "NL = pd.concat([NLSter, NLJuice], ignore_index=True)\n",
    "AL = pd.concat([ALSter, ALJuice], ignore_index=True)"
   ]
  },
  {
   "cell_type": "code",
   "execution_count": 32,
   "metadata": {},
   "outputs": [
    {
     "name": "stdout",
     "output_type": "stream",
     "text": [
      "NL Mean: 0.26161966136046516 \n",
      "NL StDev: 0.03573001555296526 \n",
      "AL Mean 0.2600010153517902 \n",
      "AL StDev: 0.03508127199382807\n"
     ]
    }
   ],
   "source": [
    "print(\"NL Mean: {} \\nNL StDev: {} \\nAL Mean {} \\nAL StDev: {}\".format(NL.AVG.mean(),\n",
    "                                                                  NL.AVG.std(),\n",
    "                                                                  AL.AVG.mean(), \n",
    "                                                                  AL.AVG.std()))"
   ]
  },
  {
   "cell_type": "code",
   "execution_count": 33,
   "metadata": {},
   "outputs": [
    {
     "data": {
      "text/plain": [
       "1.64504"
      ]
     },
     "execution_count": 33,
     "metadata": {},
     "output_type": "execute_result"
    }
   ],
   "source": [
    "#critical value \n",
    "league_deg = len(AL) + len(NL) - 2\n",
    "league_crit_val = np.round(stats.t.ppf(1-0.05, df=league_deg), 5)\n",
    "league_crit_val"
   ]
  },
  {
   "cell_type": "code",
   "execution_count": 34,
   "metadata": {},
   "outputs": [
    {
     "data": {
      "text/plain": [
       "(2.043912227022809, 0.0409949361619532)"
      ]
     },
     "execution_count": 34,
     "metadata": {},
     "output_type": "execute_result"
    }
   ],
   "source": [
    "colname = 'AVG'\n",
    "t_stat_2, p_value_2 = stats.ttest_ind(NL[colname], AL[colname], equal_var=False)\n",
    "t_stat_2, p_value_2"
   ]
  },
  {
   "cell_type": "code",
   "execution_count": 35,
   "metadata": {},
   "outputs": [
    {
     "data": {
      "image/png": "[encoded data removed]",
      "text/plain": [
       "<Figure size 864x576 with 1 Axes>"
      ]
     },
     "metadata": {
      "needs_background": "light"
     },
     "output_type": "display_data"
    }
   ],
   "source": [
    "xs = np.linspace(-5, 5, 200)\n",
    "ys = stats.t.pdf(xs, deg, 0, 1)\n",
    "\n",
    "fig = plt.figure(figsize=(12,8))\n",
    "\n",
    "ax = fig.gca()\n",
    "\n",
    "ax.plot(xs, ys, linewidth=3, color='darkblue')\n",
    "\n",
    "ax.axvline(t_stat_2, color='red', linestyle='--', lw=3,label='t-stat')\n",
    "\n",
    "ax.axvline(league_crit_val,color='green',linestyle='--',lw=3,label='critical t-value')\n",
    "\n",
    "ax.fill_betweenx(ys,xs,league_crit_val,where = xs > league_crit_val, color = 'plum')\n",
    "plt.title('T-Stat and Critical T-Value')\n",
    "ax.legend()\n",
    "plt.show()"
   ]
  },
  {
   "cell_type": "code",
   "execution_count": null,
   "metadata": {},
   "outputs": [],
   "source": []
  },
  {
   "cell_type": "code",
   "execution_count": null,
   "metadata": {},
   "outputs": [],
   "source": []
  },
  {
   "cell_type": "code",
   "execution_count": null,
   "metadata": {},
   "outputs": [],
   "source": []
  },
  {
   "cell_type": "code",
   "execution_count": null,
   "metadata": {},
   "outputs": [],
   "source": []
  },
  {
   "cell_type": "code",
   "execution_count": null,
   "metadata": {},
   "outputs": [],
   "source": []
  },
  {
   "cell_type": "code",
   "execution_count": null,
   "metadata": {},
   "outputs": [],
   "source": []
  },
  {
   "cell_type": "code",
   "execution_count": null,
   "metadata": {},
   "outputs": [],
   "source": []
  }
 ],
 "metadata": {
  "kernelspec": {
   "display_name": "Python 3",
   "language": "python",
   "name": "python3"
  },
  "language_info": {
   "codemirror_mode": {
    "name": "ipython",
    "version": 3
   },
   "file_extension": ".py",
   "mimetype": "text/x-python",
   "name": "python",
   "nbconvert_exporter": "python",
   "pygments_lexer": "ipython3",
   "version": "3.6.9"
  }
 },
 "nbformat": 4,
 "nbformat_minor": 2
}
